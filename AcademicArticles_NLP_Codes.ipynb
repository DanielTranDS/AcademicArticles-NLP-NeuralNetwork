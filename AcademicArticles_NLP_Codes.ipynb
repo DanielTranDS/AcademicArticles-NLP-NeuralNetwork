{
 "cells": [
  {
   "cell_type": "markdown",
   "metadata": {},
   "source": [
    "# Text Classification, Topic Modelling using Neural Network, for Academic Article\n",
    "\n",
    "## Table of Content\n",
    "1. [Text Classification](#1)\n",
    "    - 1.1 [Logistic Regression](#1.1)\n",
    "    - 1.2 [Recurrent Neural Network](#1.2)\n",
    "    - 1.3 [Comparison and Evaluation](#1.3)\n",
    "2. [Topic Modelling](#2)"
   ]
  },
  {
   "cell_type": "code",
   "execution_count": 3,
   "metadata": {},
   "outputs": [],
   "source": [
    "#import libraries\n",
    "import pandas as pd\n",
    "import nltk\n",
    "from nltk import word_tokenize\n",
    "from nltk.corpus import stopwords\n",
    "from nltk.stem import WordNetLemmatizer\n",
    "from sklearn.feature_extraction.text import TfidfVectorizer\n",
    "import numpy as np\n",
    "from sklearn.linear_model import LogisticRegression\n",
    "from sklearn.metrics import precision_score,recall_score,f1_score,confusion_matrix\n",
    "import torch.nn as nn\n",
    "import torch \n",
    "from torchtext.legacy import data\n",
    "from torchtext.legacy.data import TabularDataset\n",
    "import torch.optim as optim\n",
    "import time\n",
    "import warnings\n",
    "import matplotlib.pyplot as plt\n",
    "from sklearn.metrics import precision_recall_curve,auc\n",
    "import logging\n",
    "from nltk.tokenize import RegexpTokenizer\n",
    "from gensim.models import Phrases\n",
    "from gensim.corpora import Dictionary\n",
    "from gensim.models import LdaModel\n",
    "from pprint import pprint\n",
    "import pyLDAvis.gensim"
   ]
  },
  {
   "cell_type": "code",
   "execution_count": 5,
   "metadata": {},
   "outputs": [
    {
     "data": {
      "text/html": [
       "<div>\n",
       "<style scoped>\n",
       "    .dataframe tbody tr th:only-of-type {\n",
       "        vertical-align: middle;\n",
       "    }\n",
       "\n",
       "    .dataframe tbody tr th {\n",
       "        vertical-align: top;\n",
       "    }\n",
       "\n",
       "    .dataframe thead th {\n",
       "        text-align: right;\n",
       "    }\n",
       "</style>\n",
       "<table border=\"1\" class=\"dataframe\">\n",
       "  <thead>\n",
       "    <tr style=\"text-align: right;\">\n",
       "      <th></th>\n",
       "      <th>ID</th>\n",
       "      <th>URL</th>\n",
       "      <th>Date</th>\n",
       "      <th>Title</th>\n",
       "      <th>InfoTheory</th>\n",
       "      <th>CompVis</th>\n",
       "      <th>Math</th>\n",
       "      <th>Abstract</th>\n",
       "    </tr>\n",
       "  </thead>\n",
       "  <tbody>\n",
       "    <tr>\n",
       "      <th>0</th>\n",
       "      <td>cs-9301111</td>\n",
       "      <td>arxiv.org/abs/cs/9301111</td>\n",
       "      <td>1989-12-31</td>\n",
       "      <td>Nested satisfiability</td>\n",
       "      <td>0</td>\n",
       "      <td>0</td>\n",
       "      <td>0</td>\n",
       "      <td>Nested satisfiability A special case of the s...</td>\n",
       "    </tr>\n",
       "    <tr>\n",
       "      <th>1</th>\n",
       "      <td>cs-9301112</td>\n",
       "      <td>arxiv.org/abs/cs/9301112</td>\n",
       "      <td>1990-03-31</td>\n",
       "      <td>A note on digitized angles</td>\n",
       "      <td>0</td>\n",
       "      <td>0</td>\n",
       "      <td>0</td>\n",
       "      <td>A note on digitized angles We study the confi...</td>\n",
       "    </tr>\n",
       "    <tr>\n",
       "      <th>2</th>\n",
       "      <td>cs-9301113</td>\n",
       "      <td>arxiv.org/abs/cs/9301113</td>\n",
       "      <td>1991-07-31</td>\n",
       "      <td>Textbook examples of recursion</td>\n",
       "      <td>0</td>\n",
       "      <td>0</td>\n",
       "      <td>0</td>\n",
       "      <td>Textbook examples of recursion We discuss pro...</td>\n",
       "    </tr>\n",
       "    <tr>\n",
       "      <th>3</th>\n",
       "      <td>cs-9301114</td>\n",
       "      <td>arxiv.org/abs/cs/9301114</td>\n",
       "      <td>1991-10-31</td>\n",
       "      <td>Theory and practice</td>\n",
       "      <td>0</td>\n",
       "      <td>0</td>\n",
       "      <td>0</td>\n",
       "      <td>Theory and practice The author argues to Sili...</td>\n",
       "    </tr>\n",
       "    <tr>\n",
       "      <th>4</th>\n",
       "      <td>cs-9301115</td>\n",
       "      <td>arxiv.org/abs/cs/9301115</td>\n",
       "      <td>1991-11-30</td>\n",
       "      <td>Context-free multilanguages</td>\n",
       "      <td>0</td>\n",
       "      <td>0</td>\n",
       "      <td>0</td>\n",
       "      <td>Context-free multilanguages This article is a...</td>\n",
       "    </tr>\n",
       "  </tbody>\n",
       "</table>\n",
       "</div>"
      ],
      "text/plain": [
       "           ID                       URL        Date  \\\n",
       "0  cs-9301111  arxiv.org/abs/cs/9301111  1989-12-31   \n",
       "1  cs-9301112  arxiv.org/abs/cs/9301112  1990-03-31   \n",
       "2  cs-9301113  arxiv.org/abs/cs/9301113  1991-07-31   \n",
       "3  cs-9301114  arxiv.org/abs/cs/9301114  1991-10-31   \n",
       "4  cs-9301115  arxiv.org/abs/cs/9301115  1991-11-30   \n",
       "\n",
       "                            Title  InfoTheory  CompVis  Math  \\\n",
       "0           Nested satisfiability           0        0     0   \n",
       "1      A note on digitized angles           0        0     0   \n",
       "2  Textbook examples of recursion           0        0     0   \n",
       "3             Theory and practice           0        0     0   \n",
       "4     Context-free multilanguages           0        0     0   \n",
       "\n",
       "                                            Abstract  \n",
       "0   Nested satisfiability A special case of the s...  \n",
       "1   A note on digitized angles We study the confi...  \n",
       "2   Textbook examples of recursion We discuss pro...  \n",
       "3   Theory and practice The author argues to Sili...  \n",
       "4   Context-free multilanguages This article is a...  "
      ]
     },
     "execution_count": 5,
     "metadata": {},
     "output_type": "execute_result"
    }
   ],
   "source": [
    "#Load data\n",
    "train=pd.read_csv('train.csv')\n",
    "test=pd.read_csv('test.csv')\n",
    "train.head(5)"
   ]
  },
  {
   "cell_type": "code",
   "execution_count": 6,
   "metadata": {},
   "outputs": [
    {
     "data": {
      "text/html": [
       "<div>\n",
       "<style scoped>\n",
       "    .dataframe tbody tr th:only-of-type {\n",
       "        vertical-align: middle;\n",
       "    }\n",
       "\n",
       "    .dataframe tbody tr th {\n",
       "        vertical-align: top;\n",
       "    }\n",
       "\n",
       "    .dataframe thead th {\n",
       "        text-align: right;\n",
       "    }\n",
       "</style>\n",
       "<table border=\"1\" class=\"dataframe\">\n",
       "  <thead>\n",
       "    <tr style=\"text-align: right;\">\n",
       "      <th></th>\n",
       "      <th>ID</th>\n",
       "      <th>URL</th>\n",
       "      <th>Date</th>\n",
       "      <th>Title</th>\n",
       "      <th>InfoTheory</th>\n",
       "      <th>CompVis</th>\n",
       "      <th>Math</th>\n",
       "      <th>Abstract</th>\n",
       "    </tr>\n",
       "  </thead>\n",
       "  <tbody>\n",
       "    <tr>\n",
       "      <th>0</th>\n",
       "      <td>no-150100335</td>\n",
       "      <td>arxiv.org/abs/1501.00335</td>\n",
       "      <td>2015-01-01</td>\n",
       "      <td>A Data Transparency Framework for Mobile Appli...</td>\n",
       "      <td>0</td>\n",
       "      <td>0</td>\n",
       "      <td>0</td>\n",
       "      <td>A Data Transparency Framework for Mobile Appl...</td>\n",
       "    </tr>\n",
       "    <tr>\n",
       "      <th>1</th>\n",
       "      <td>no-14024178</td>\n",
       "      <td>arxiv.org/abs/1402.4178</td>\n",
       "      <td>2015-01-01</td>\n",
       "      <td>A reclaimer scheduling problem arising in coal...</td>\n",
       "      <td>0</td>\n",
       "      <td>0</td>\n",
       "      <td>0</td>\n",
       "      <td>A reclaimer scheduling problem arising in coa...</td>\n",
       "    </tr>\n",
       "    <tr>\n",
       "      <th>2</th>\n",
       "      <td>no-150100263</td>\n",
       "      <td>arxiv.org/abs/1501.00263</td>\n",
       "      <td>2015-01-01</td>\n",
       "      <td>Communication-Efficient Distributed Optimizati...</td>\n",
       "      <td>0</td>\n",
       "      <td>0</td>\n",
       "      <td>1</td>\n",
       "      <td>Communication-Efficient Distributed Optimizat...</td>\n",
       "    </tr>\n",
       "    <tr>\n",
       "      <th>3</th>\n",
       "      <td>no-150100287</td>\n",
       "      <td>arxiv.org/abs/1501.00287</td>\n",
       "      <td>2015-01-01</td>\n",
       "      <td>Consistent Classification Algorithms for Multi...</td>\n",
       "      <td>0</td>\n",
       "      <td>0</td>\n",
       "      <td>0</td>\n",
       "      <td>Consistent Classification Algorithms for Mult...</td>\n",
       "    </tr>\n",
       "    <tr>\n",
       "      <th>4</th>\n",
       "      <td>no-11070586</td>\n",
       "      <td>arxiv.org/abs/1107.0586</td>\n",
       "      <td>2015-01-01</td>\n",
       "      <td>Managing key multicasting through orthogonal s...</td>\n",
       "      <td>0</td>\n",
       "      <td>0</td>\n",
       "      <td>0</td>\n",
       "      <td>Managing key multicasting through orthogonal ...</td>\n",
       "    </tr>\n",
       "  </tbody>\n",
       "</table>\n",
       "</div>"
      ],
      "text/plain": [
       "             ID                       URL        Date  \\\n",
       "0  no-150100335  arxiv.org/abs/1501.00335  2015-01-01   \n",
       "1   no-14024178   arxiv.org/abs/1402.4178  2015-01-01   \n",
       "2  no-150100263  arxiv.org/abs/1501.00263  2015-01-01   \n",
       "3  no-150100287  arxiv.org/abs/1501.00287  2015-01-01   \n",
       "4   no-11070586   arxiv.org/abs/1107.0586  2015-01-01   \n",
       "\n",
       "                                               Title  InfoTheory  CompVis  \\\n",
       "0  A Data Transparency Framework for Mobile Appli...           0        0   \n",
       "1  A reclaimer scheduling problem arising in coal...           0        0   \n",
       "2  Communication-Efficient Distributed Optimizati...           0        0   \n",
       "3  Consistent Classification Algorithms for Multi...           0        0   \n",
       "4  Managing key multicasting through orthogonal s...           0        0   \n",
       "\n",
       "   Math                                           Abstract  \n",
       "0     0   A Data Transparency Framework for Mobile Appl...  \n",
       "1     0   A reclaimer scheduling problem arising in coa...  \n",
       "2     1   Communication-Efficient Distributed Optimizat...  \n",
       "3     0   Consistent Classification Algorithms for Mult...  \n",
       "4     0   Managing key multicasting through orthogonal ...  "
      ]
     },
     "execution_count": 6,
     "metadata": {},
     "output_type": "execute_result"
    }
   ],
   "source": [
    "test.head(5)"
   ]
  },
  {
   "cell_type": "markdown",
   "metadata": {},
   "source": [
    "We only need information regarding the text and its classified labels. Therefore, we only retain relevants columns in `train` and `test`"
   ]
  },
  {
   "cell_type": "code",
   "execution_count": 7,
   "metadata": {},
   "outputs": [
    {
     "data": {
      "text/html": [
       "<div>\n",
       "<style scoped>\n",
       "    .dataframe tbody tr th:only-of-type {\n",
       "        vertical-align: middle;\n",
       "    }\n",
       "\n",
       "    .dataframe tbody tr th {\n",
       "        vertical-align: top;\n",
       "    }\n",
       "\n",
       "    .dataframe thead th {\n",
       "        text-align: right;\n",
       "    }\n",
       "</style>\n",
       "<table border=\"1\" class=\"dataframe\">\n",
       "  <thead>\n",
       "    <tr style=\"text-align: right;\">\n",
       "      <th></th>\n",
       "      <th>ID</th>\n",
       "      <th>InfoTheory</th>\n",
       "      <th>CompVis</th>\n",
       "      <th>Math</th>\n",
       "      <th>Abstract</th>\n",
       "    </tr>\n",
       "  </thead>\n",
       "  <tbody>\n",
       "    <tr>\n",
       "      <th>0</th>\n",
       "      <td>cs-9301111</td>\n",
       "      <td>0</td>\n",
       "      <td>0</td>\n",
       "      <td>0</td>\n",
       "      <td>Nested satisfiability A special case of the s...</td>\n",
       "    </tr>\n",
       "    <tr>\n",
       "      <th>1</th>\n",
       "      <td>cs-9301112</td>\n",
       "      <td>0</td>\n",
       "      <td>0</td>\n",
       "      <td>0</td>\n",
       "      <td>A note on digitized angles We study the confi...</td>\n",
       "    </tr>\n",
       "    <tr>\n",
       "      <th>2</th>\n",
       "      <td>cs-9301113</td>\n",
       "      <td>0</td>\n",
       "      <td>0</td>\n",
       "      <td>0</td>\n",
       "      <td>Textbook examples of recursion We discuss pro...</td>\n",
       "    </tr>\n",
       "    <tr>\n",
       "      <th>3</th>\n",
       "      <td>cs-9301114</td>\n",
       "      <td>0</td>\n",
       "      <td>0</td>\n",
       "      <td>0</td>\n",
       "      <td>Theory and practice The author argues to Sili...</td>\n",
       "    </tr>\n",
       "    <tr>\n",
       "      <th>4</th>\n",
       "      <td>cs-9301115</td>\n",
       "      <td>0</td>\n",
       "      <td>0</td>\n",
       "      <td>0</td>\n",
       "      <td>Context-free multilanguages This article is a...</td>\n",
       "    </tr>\n",
       "  </tbody>\n",
       "</table>\n",
       "</div>"
      ],
      "text/plain": [
       "           ID  InfoTheory  CompVis  Math  \\\n",
       "0  cs-9301111           0        0     0   \n",
       "1  cs-9301112           0        0     0   \n",
       "2  cs-9301113           0        0     0   \n",
       "3  cs-9301114           0        0     0   \n",
       "4  cs-9301115           0        0     0   \n",
       "\n",
       "                                            Abstract  \n",
       "0   Nested satisfiability A special case of the s...  \n",
       "1   A note on digitized angles We study the confi...  \n",
       "2   Textbook examples of recursion We discuss pro...  \n",
       "3   Theory and practice The author argues to Sili...  \n",
       "4   Context-free multilanguages This article is a...  "
      ]
     },
     "execution_count": 7,
     "metadata": {},
     "output_type": "execute_result"
    }
   ],
   "source": [
    "train=train[['ID','InfoTheory','CompVis','Math','Abstract']]\n",
    "test=test[['ID','InfoTheory','CompVis','Math','Abstract']]\n",
    "train.head(5)"
   ]
  },
  {
   "cell_type": "code",
   "execution_count": 8,
   "metadata": {},
   "outputs": [
    {
     "data": {
      "text/html": [
       "<div>\n",
       "<style scoped>\n",
       "    .dataframe tbody tr th:only-of-type {\n",
       "        vertical-align: middle;\n",
       "    }\n",
       "\n",
       "    .dataframe tbody tr th {\n",
       "        vertical-align: top;\n",
       "    }\n",
       "\n",
       "    .dataframe thead th {\n",
       "        text-align: right;\n",
       "    }\n",
       "</style>\n",
       "<table border=\"1\" class=\"dataframe\">\n",
       "  <thead>\n",
       "    <tr style=\"text-align: right;\">\n",
       "      <th></th>\n",
       "      <th>ID</th>\n",
       "      <th>InfoTheory</th>\n",
       "      <th>CompVis</th>\n",
       "      <th>Math</th>\n",
       "      <th>Abstract</th>\n",
       "    </tr>\n",
       "  </thead>\n",
       "  <tbody>\n",
       "    <tr>\n",
       "      <th>0</th>\n",
       "      <td>no-150100335</td>\n",
       "      <td>0</td>\n",
       "      <td>0</td>\n",
       "      <td>0</td>\n",
       "      <td>A Data Transparency Framework for Mobile Appl...</td>\n",
       "    </tr>\n",
       "    <tr>\n",
       "      <th>1</th>\n",
       "      <td>no-14024178</td>\n",
       "      <td>0</td>\n",
       "      <td>0</td>\n",
       "      <td>0</td>\n",
       "      <td>A reclaimer scheduling problem arising in coa...</td>\n",
       "    </tr>\n",
       "    <tr>\n",
       "      <th>2</th>\n",
       "      <td>no-150100263</td>\n",
       "      <td>0</td>\n",
       "      <td>0</td>\n",
       "      <td>1</td>\n",
       "      <td>Communication-Efficient Distributed Optimizat...</td>\n",
       "    </tr>\n",
       "    <tr>\n",
       "      <th>3</th>\n",
       "      <td>no-150100287</td>\n",
       "      <td>0</td>\n",
       "      <td>0</td>\n",
       "      <td>0</td>\n",
       "      <td>Consistent Classification Algorithms for Mult...</td>\n",
       "    </tr>\n",
       "    <tr>\n",
       "      <th>4</th>\n",
       "      <td>no-11070586</td>\n",
       "      <td>0</td>\n",
       "      <td>0</td>\n",
       "      <td>0</td>\n",
       "      <td>Managing key multicasting through orthogonal ...</td>\n",
       "    </tr>\n",
       "  </tbody>\n",
       "</table>\n",
       "</div>"
      ],
      "text/plain": [
       "             ID  InfoTheory  CompVis  Math  \\\n",
       "0  no-150100335           0        0     0   \n",
       "1   no-14024178           0        0     0   \n",
       "2  no-150100263           0        0     1   \n",
       "3  no-150100287           0        0     0   \n",
       "4   no-11070586           0        0     0   \n",
       "\n",
       "                                            Abstract  \n",
       "0   A Data Transparency Framework for Mobile Appl...  \n",
       "1   A reclaimer scheduling problem arising in coa...  \n",
       "2   Communication-Efficient Distributed Optimizat...  \n",
       "3   Consistent Classification Algorithms for Mult...  \n",
       "4   Managing key multicasting through orthogonal ...  "
      ]
     },
     "execution_count": 8,
     "metadata": {},
     "output_type": "execute_result"
    }
   ],
   "source": [
    "test.head(5)"
   ]
  },
  {
   "cell_type": "code",
   "execution_count": 9,
   "metadata": {},
   "outputs": [
    {
     "name": "stdout",
     "output_type": "stream",
     "text": [
      "(54731, 5)\n",
      "(19678, 5)\n"
     ]
    }
   ],
   "source": [
    "#we check for dimensions of training and testing data\n",
    "print(train.shape)  #54731 rows, 5 columns\n",
    "print(test.shape)   #19679 rows, 5 columns"
   ]
  },
  {
   "cell_type": "markdown",
   "metadata": {},
   "source": [
    "Next, we check if there are any class imbalance issue in `train` and `test`"
   ]
  },
  {
   "cell_type": "code",
   "execution_count": 14,
   "metadata": {},
   "outputs": [
    {
     "name": "stdout",
     "output_type": "stream",
     "text": [
      "The proportion of Articles that belongs to InfoIheory, in the training set, is:  0.1925417039703276\n",
      "The proportion of Articles that belongs to Compvis, in the training set, is:  0.04063510624691674\n",
      "The proportion of Articles that belongs to Math, in the training set, is:  0.30562204235259727\n",
      "----------------------------------------------------------------------------------------------------\n",
      "The proportion of Articles that belongs to InfoIheory, in the testing set, is:  0.1837585120439069\n",
      "The proportion of Articles that belongs to Compvis, in the testing set, is:  0.1093607073889623\n",
      "The proportion of Articles that belongs to Math, in the testing set, is:  0.3013517633905885\n"
     ]
    }
   ],
   "source": [
    "print(\"The proportion of Articles that belongs to InfoIheory, in the training set, is: \",\n",
    "      train.loc[train.InfoTheory==1].shape[0]/train.shape[0])\n",
    "print(\"The proportion of Articles that belongs to Compvis, in the training set, is: \",\n",
    "      train.loc[train.CompVis==1].shape[0]/train.shape[0])\n",
    "print(\"The proportion of Articles that belongs to Math, in the training set, is: \",\n",
    "      train.loc[train.Math==1].shape[0]/train.shape[0])\n",
    "print('----------------------------------------------------------------------------------------------------')\n",
    "print(\"The proportion of Articles that belongs to InfoIheory, in the testing set, is: \",\n",
    "      test.loc[test.InfoTheory==1].shape[0]/test.shape[0])\n",
    "print(\"The proportion of Articles that belongs to Compvis, in the testing set, is: \",\n",
    "      test.loc[test.CompVis==1].shape[0]/test.shape[0])\n",
    "print(\"The proportion of Articles that belongs to Math, in the testing set, is: \",\n",
    "      test.loc[test.Math==1].shape[0]/test.shape[0])"
   ]
  },
  {
   "cell_type": "markdown",
   "metadata": {},
   "source": [
    "There is a problem of class imbalance, for all 3 response variables, in both training and testing set. The problem is particularly more severe for `CompVis` and `InfoTheory`, especially `CompVis`"
   ]
  },
  {
   "cell_type": "markdown",
   "metadata": {},
   "source": [
    "## 1. Text Classification <a class=\"anchor\" id=\"1\"></a>"
   ]
  },
  {
   "cell_type": "markdown",
   "metadata": {},
   "source": [
    "For this portion of the project, I will compare between 2 different types of models when it comes to text classification: A statistical classifier in the form of `Logistic Regression`, and a deep learning approach involving a `Recurrent Neural Network`. "
   ]
  },
  {
   "cell_type": "markdown",
   "metadata": {},
   "source": [
    "### Text Preprocessing\n",
    "\n",
    "For both of the models, they will have the same text preprocessing stage, involving:\n",
    "- Use TfidfVectorizer:\n",
    "    - Set Lowercase is True\n",
    "    - Allows for bigram\n",
    "    - A minimum document frequency of 2\n",
    "    - Use tokenizer and lemmatizer from WordNet from NLTK"
   ]
  },
  {
   "cell_type": "code",
   "execution_count": 26,
   "metadata": {},
   "outputs": [
    {
     "name": "stderr",
     "output_type": "stream",
     "text": [
      "[nltk_data] Downloading package wordnet to C:\\Users\\Daniel\n",
      "[nltk_data]     Tran\\AppData\\Roaming\\nltk_data...\n",
      "[nltk_data]   Package wordnet is already up-to-date!\n",
      "[nltk_data] Downloading package punkt to C:\\Users\\Daniel\n",
      "[nltk_data]     Tran\\AppData\\Roaming\\nltk_data...\n",
      "[nltk_data]   Package punkt is already up-to-date!\n"
     ]
    },
    {
     "data": {
      "text/plain": [
       "True"
      ]
     },
     "execution_count": 26,
     "metadata": {},
     "output_type": "execute_result"
    }
   ],
   "source": [
    "nltk.download('wordnet')\n",
    "nltk.download('punkt')"
   ]
  },
  {
   "cell_type": "code",
   "execution_count": 27,
   "metadata": {},
   "outputs": [],
   "source": [
    "#Define tokenizer and lemmatizer\n",
    "class LemmaTokenizerWordNet(object):\n",
    "    def __init__(self):\n",
    "        self.wnl=WordNetLemmatizer()\n",
    "    def __call__(self,doc):\n",
    "        #Tokenization, Lemmarization, remove stopword\n",
    "        return [self.wnl.lemmatize(t) for t in word_tokenize(doc)]"
   ]
  },
  {
   "cell_type": "code",
   "execution_count": 28,
   "metadata": {},
   "outputs": [],
   "source": [
    "#TfidfVectorizer\n",
    "tfidf_vectorizer=TfidfVectorizer(analyzer='word',input='content',\n",
    "                                lowercase=True,\n",
    "                                min_df=2, \n",
    "                                ngram_range=(1,2),\n",
    "                                tokenizer=LemmaTokenizerWordNet())"
   ]
  },
  {
   "cell_type": "code",
   "execution_count": 29,
   "metadata": {},
   "outputs": [
    {
     "data": {
      "text/plain": [
       "504439"
      ]
     },
     "execution_count": 29,
     "metadata": {},
     "output_type": "execute_result"
    }
   ],
   "source": [
    "#Vectorize the text data to get the features\n",
    "x_train=tfidf_vectorizer.fit_transform(train.Abstract.tolist())\n",
    "\n",
    "#Number of features\n",
    "len(tfidf_vectorizer.get_feature_names())"
   ]
  },
  {
   "cell_type": "code",
   "execution_count": 30,
   "metadata": {},
   "outputs": [],
   "source": [
    "#Get all training data labels as arrays\n",
    "y_train_IT=np.asarray(train.InfoTheory.tolist())\n",
    "y_train_CV=np.asarray(train.CompVis.tolist())\n",
    "y_train_MA=np.asarray(train.Math.tolist())"
   ]
  },
  {
   "cell_type": "markdown",
   "metadata": {},
   "source": [
    "### 1.1 Logistic Regression <a class=\"anchor\" id=\"1.1\"></a>"
   ]
  },
  {
   "cell_type": "markdown",
   "metadata": {},
   "source": [
    "#### Model for InfoTheory"
   ]
  },
  {
   "cell_type": "code",
   "execution_count": 35,
   "metadata": {},
   "outputs": [
    {
     "name": "stdout",
     "output_type": "stream",
     "text": [
      "[[43839   354]\n",
      " [ 1656  8882]]\n"
     ]
    }
   ],
   "source": [
    "warnings.filterwarnings(\"ignore\", category=DeprecationWarning) \n",
    "\n",
    "IT_model=LogisticRegression().fit(x_train,y_train_IT)\n",
    "\n",
    "#Model performance on training set\n",
    "IT_predict_train=IT_model.predict(x_train)\n",
    "print(confusion_matrix(y_train_IT,IT_predict_train))"
   ]
  },
  {
   "cell_type": "markdown",
   "metadata": {},
   "source": [
    "#### Model for CompVis"
   ]
  },
  {
   "cell_type": "code",
   "execution_count": 36,
   "metadata": {},
   "outputs": [
    {
     "name": "stdout",
     "output_type": "stream",
     "text": [
      "[[52412    95]\n",
      " [  876  1348]]\n"
     ]
    }
   ],
   "source": [
    "CV_model=LogisticRegression().fit(x_train,y_train_CV)\n",
    "\n",
    "#Model performance on training set\n",
    "CV_predict_train=CV_model.predict(x_train)\n",
    "print(confusion_matrix(y_train_CV,CV_predict_train)) "
   ]
  },
  {
   "cell_type": "markdown",
   "metadata": {},
   "source": [
    "#### Model for Math"
   ]
  },
  {
   "cell_type": "code",
   "execution_count": 37,
   "metadata": {},
   "outputs": [
    {
     "name": "stdout",
     "output_type": "stream",
     "text": [
      "[[37005   999]\n",
      " [ 3212 13515]]\n"
     ]
    }
   ],
   "source": [
    "MA_model=LogisticRegression(max_iter=200).fit(x_train,y_train_MA)\n",
    "\n",
    "#Model performance on training set\n",
    "\n",
    "MA_predict_train=MA_model.predict(x_train)\n",
    "print(confusion_matrix(y_train_MA,MA_predict_train)) "
   ]
  },
  {
   "cell_type": "markdown",
   "metadata": {},
   "source": [
    "### 1.2 Recurrent Neural Network <a class=\"anchor\" id=\"1.2\"></a>"
   ]
  },
  {
   "cell_type": "code",
   "execution_count": null,
   "metadata": {},
   "outputs": [],
   "source": []
  },
  {
   "cell_type": "code",
   "execution_count": null,
   "metadata": {},
   "outputs": [],
   "source": []
  },
  {
   "cell_type": "code",
   "execution_count": null,
   "metadata": {},
   "outputs": [],
   "source": []
  },
  {
   "cell_type": "code",
   "execution_count": null,
   "metadata": {},
   "outputs": [],
   "source": []
  },
  {
   "cell_type": "markdown",
   "metadata": {},
   "source": [
    "### 1.3 Comparison and Evaluation <a class=\"anchor\" id=\"1.3\"></a>"
   ]
  },
  {
   "cell_type": "code",
   "execution_count": null,
   "metadata": {},
   "outputs": [],
   "source": []
  },
  {
   "cell_type": "code",
   "execution_count": null,
   "metadata": {},
   "outputs": [],
   "source": []
  },
  {
   "cell_type": "markdown",
   "metadata": {},
   "source": [
    "## 2.Topic Modelling <a class=\"anchor\" id=\"2\"></a>"
   ]
  },
  {
   "cell_type": "code",
   "execution_count": null,
   "metadata": {},
   "outputs": [],
   "source": []
  }
 ],
 "metadata": {
  "kernelspec": {
   "display_name": "Python 3",
   "language": "python",
   "name": "python3"
  },
  "language_info": {
   "codemirror_mode": {
    "name": "ipython",
    "version": 3
   },
   "file_extension": ".py",
   "mimetype": "text/x-python",
   "name": "python",
   "nbconvert_exporter": "python",
   "pygments_lexer": "ipython3",
   "version": "3.7.6"
  }
 },
 "nbformat": 4,
 "nbformat_minor": 4
}
