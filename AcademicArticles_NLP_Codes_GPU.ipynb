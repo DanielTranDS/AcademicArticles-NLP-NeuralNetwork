{
 "cells": [
  {
   "cell_type": "markdown",
   "metadata": {
    "id": "ChHGljNgqrRZ"
   },
   "source": [
    "# Text Classification, Topic Modelling using Neural Network, for Academic Article\n",
    "\n",
    "## Table of Content\n",
    "1. [Text Classification](#1)\n",
    "    - 1.1 [Logistic Regression](#1.1)\n",
    "    - 1.2 [Recurrent Neural Network](#1.2)\n",
    "    - 1.3 [Comparison and Evaluation](#1.3)\n",
    "2. [Topic Modelling](#2)"
   ]
  },
  {
   "cell_type": "code",
   "execution_count": 3,
   "metadata": {
    "id": "cPIQSE2PqrRb"
   },
   "outputs": [],
   "source": [
    "#import libraries\n",
    "import pandas as pd\n",
    "import nltk\n",
    "from nltk import word_tokenize\n",
    "from nltk.corpus import stopwords\n",
    "from nltk.stem import WordNetLemmatizer\n",
    "from sklearn.feature_extraction.text import TfidfVectorizer\n",
    "import numpy as np\n",
    "from sklearn.linear_model import LogisticRegression\n",
    "from sklearn.metrics import precision_score,recall_score,f1_score,confusion_matrix\n",
    "import torch.nn as nn\n",
    "import torch \n",
    "from torchtext.legacy import data\n",
    "from torchtext.legacy.data import TabularDataset\n",
    "import torch.optim as optim\n",
    "import time\n",
    "import warnings\n",
    "import matplotlib.pyplot as plt\n",
    "from sklearn.metrics import precision_recall_curve,auc\n",
    "import logging\n",
    "from nltk.tokenize import RegexpTokenizer\n",
    "from gensim.models import Phrases\n",
    "from gensim.corpora import Dictionary\n",
    "from gensim.models import LdaModel\n",
    "from pprint import pprint\n",
    "import pyLDAvis.gensim"
   ]
  },
  {
   "cell_type": "code",
   "execution_count": 4,
   "metadata": {
    "colab": {
     "base_uri": "https://localhost:8080/",
     "height": 310
    },
    "id": "SeHiYytAqrRc",
    "outputId": "c1615698-a203-4a7b-d7e7-1ae162c1e95f"
   },
   "outputs": [
    {
     "data": {
      "text/html": [
       "<div>\n",
       "<style scoped>\n",
       "    .dataframe tbody tr th:only-of-type {\n",
       "        vertical-align: middle;\n",
       "    }\n",
       "\n",
       "    .dataframe tbody tr th {\n",
       "        vertical-align: top;\n",
       "    }\n",
       "\n",
       "    .dataframe thead th {\n",
       "        text-align: right;\n",
       "    }\n",
       "</style>\n",
       "<table border=\"1\" class=\"dataframe\">\n",
       "  <thead>\n",
       "    <tr style=\"text-align: right;\">\n",
       "      <th></th>\n",
       "      <th>ID</th>\n",
       "      <th>URL</th>\n",
       "      <th>Date</th>\n",
       "      <th>Title</th>\n",
       "      <th>InfoTheory</th>\n",
       "      <th>CompVis</th>\n",
       "      <th>Math</th>\n",
       "      <th>Abstract</th>\n",
       "    </tr>\n",
       "  </thead>\n",
       "  <tbody>\n",
       "    <tr>\n",
       "      <th>0</th>\n",
       "      <td>cs-9301111</td>\n",
       "      <td>arxiv.org/abs/cs/9301111</td>\n",
       "      <td>1989-12-31</td>\n",
       "      <td>Nested satisfiability</td>\n",
       "      <td>0</td>\n",
       "      <td>0</td>\n",
       "      <td>0</td>\n",
       "      <td>Nested satisfiability A special case of the s...</td>\n",
       "    </tr>\n",
       "    <tr>\n",
       "      <th>1</th>\n",
       "      <td>cs-9301112</td>\n",
       "      <td>arxiv.org/abs/cs/9301112</td>\n",
       "      <td>1990-03-31</td>\n",
       "      <td>A note on digitized angles</td>\n",
       "      <td>0</td>\n",
       "      <td>0</td>\n",
       "      <td>0</td>\n",
       "      <td>A note on digitized angles We study the confi...</td>\n",
       "    </tr>\n",
       "    <tr>\n",
       "      <th>2</th>\n",
       "      <td>cs-9301113</td>\n",
       "      <td>arxiv.org/abs/cs/9301113</td>\n",
       "      <td>1991-07-31</td>\n",
       "      <td>Textbook examples of recursion</td>\n",
       "      <td>0</td>\n",
       "      <td>0</td>\n",
       "      <td>0</td>\n",
       "      <td>Textbook examples of recursion We discuss pro...</td>\n",
       "    </tr>\n",
       "    <tr>\n",
       "      <th>3</th>\n",
       "      <td>cs-9301114</td>\n",
       "      <td>arxiv.org/abs/cs/9301114</td>\n",
       "      <td>1991-10-31</td>\n",
       "      <td>Theory and practice</td>\n",
       "      <td>0</td>\n",
       "      <td>0</td>\n",
       "      <td>0</td>\n",
       "      <td>Theory and practice The author argues to Sili...</td>\n",
       "    </tr>\n",
       "    <tr>\n",
       "      <th>4</th>\n",
       "      <td>cs-9301115</td>\n",
       "      <td>arxiv.org/abs/cs/9301115</td>\n",
       "      <td>1991-11-30</td>\n",
       "      <td>Context-free multilanguages</td>\n",
       "      <td>0</td>\n",
       "      <td>0</td>\n",
       "      <td>0</td>\n",
       "      <td>Context-free multilanguages This article is a...</td>\n",
       "    </tr>\n",
       "  </tbody>\n",
       "</table>\n",
       "</div>"
      ],
      "text/plain": [
       "           ID  ...                                           Abstract\n",
       "0  cs-9301111  ...   Nested satisfiability A special case of the s...\n",
       "1  cs-9301112  ...   A note on digitized angles We study the confi...\n",
       "2  cs-9301113  ...   Textbook examples of recursion We discuss pro...\n",
       "3  cs-9301114  ...   Theory and practice The author argues to Sili...\n",
       "4  cs-9301115  ...   Context-free multilanguages This article is a...\n",
       "\n",
       "[5 rows x 8 columns]"
      ]
     },
     "execution_count": 4,
     "metadata": {},
     "output_type": "execute_result"
    }
   ],
   "source": [
    "#Load data\n",
    "train=pd.read_csv('train.csv')\n",
    "test=pd.read_csv('test.csv')\n",
    "train.head(5)"
   ]
  },
  {
   "cell_type": "code",
   "execution_count": null,
   "metadata": {
    "id": "GuefsfRFqrRd",
    "outputId": "6ce2705b-27fe-4360-997c-66eb966cd0e4"
   },
   "outputs": [
    {
     "data": {
      "text/html": [
       "<div>\n",
       "<style scoped>\n",
       "    .dataframe tbody tr th:only-of-type {\n",
       "        vertical-align: middle;\n",
       "    }\n",
       "\n",
       "    .dataframe tbody tr th {\n",
       "        vertical-align: top;\n",
       "    }\n",
       "\n",
       "    .dataframe thead th {\n",
       "        text-align: right;\n",
       "    }\n",
       "</style>\n",
       "<table border=\"1\" class=\"dataframe\">\n",
       "  <thead>\n",
       "    <tr style=\"text-align: right;\">\n",
       "      <th></th>\n",
       "      <th>ID</th>\n",
       "      <th>URL</th>\n",
       "      <th>Date</th>\n",
       "      <th>Title</th>\n",
       "      <th>InfoTheory</th>\n",
       "      <th>CompVis</th>\n",
       "      <th>Math</th>\n",
       "      <th>Abstract</th>\n",
       "    </tr>\n",
       "  </thead>\n",
       "  <tbody>\n",
       "    <tr>\n",
       "      <th>0</th>\n",
       "      <td>no-150100335</td>\n",
       "      <td>arxiv.org/abs/1501.00335</td>\n",
       "      <td>2015-01-01</td>\n",
       "      <td>A Data Transparency Framework for Mobile Appli...</td>\n",
       "      <td>0</td>\n",
       "      <td>0</td>\n",
       "      <td>0</td>\n",
       "      <td>A Data Transparency Framework for Mobile Appl...</td>\n",
       "    </tr>\n",
       "    <tr>\n",
       "      <th>1</th>\n",
       "      <td>no-14024178</td>\n",
       "      <td>arxiv.org/abs/1402.4178</td>\n",
       "      <td>2015-01-01</td>\n",
       "      <td>A reclaimer scheduling problem arising in coal...</td>\n",
       "      <td>0</td>\n",
       "      <td>0</td>\n",
       "      <td>0</td>\n",
       "      <td>A reclaimer scheduling problem arising in coa...</td>\n",
       "    </tr>\n",
       "    <tr>\n",
       "      <th>2</th>\n",
       "      <td>no-150100263</td>\n",
       "      <td>arxiv.org/abs/1501.00263</td>\n",
       "      <td>2015-01-01</td>\n",
       "      <td>Communication-Efficient Distributed Optimizati...</td>\n",
       "      <td>0</td>\n",
       "      <td>0</td>\n",
       "      <td>1</td>\n",
       "      <td>Communication-Efficient Distributed Optimizat...</td>\n",
       "    </tr>\n",
       "    <tr>\n",
       "      <th>3</th>\n",
       "      <td>no-150100287</td>\n",
       "      <td>arxiv.org/abs/1501.00287</td>\n",
       "      <td>2015-01-01</td>\n",
       "      <td>Consistent Classification Algorithms for Multi...</td>\n",
       "      <td>0</td>\n",
       "      <td>0</td>\n",
       "      <td>0</td>\n",
       "      <td>Consistent Classification Algorithms for Mult...</td>\n",
       "    </tr>\n",
       "    <tr>\n",
       "      <th>4</th>\n",
       "      <td>no-11070586</td>\n",
       "      <td>arxiv.org/abs/1107.0586</td>\n",
       "      <td>2015-01-01</td>\n",
       "      <td>Managing key multicasting through orthogonal s...</td>\n",
       "      <td>0</td>\n",
       "      <td>0</td>\n",
       "      <td>0</td>\n",
       "      <td>Managing key multicasting through orthogonal ...</td>\n",
       "    </tr>\n",
       "  </tbody>\n",
       "</table>\n",
       "</div>"
      ],
      "text/plain": [
       "             ID                       URL        Date  \\\n",
       "0  no-150100335  arxiv.org/abs/1501.00335  2015-01-01   \n",
       "1   no-14024178   arxiv.org/abs/1402.4178  2015-01-01   \n",
       "2  no-150100263  arxiv.org/abs/1501.00263  2015-01-01   \n",
       "3  no-150100287  arxiv.org/abs/1501.00287  2015-01-01   \n",
       "4   no-11070586   arxiv.org/abs/1107.0586  2015-01-01   \n",
       "\n",
       "                                               Title  InfoTheory  CompVis  \\\n",
       "0  A Data Transparency Framework for Mobile Appli...           0        0   \n",
       "1  A reclaimer scheduling problem arising in coal...           0        0   \n",
       "2  Communication-Efficient Distributed Optimizati...           0        0   \n",
       "3  Consistent Classification Algorithms for Multi...           0        0   \n",
       "4  Managing key multicasting through orthogonal s...           0        0   \n",
       "\n",
       "   Math                                           Abstract  \n",
       "0     0   A Data Transparency Framework for Mobile Appl...  \n",
       "1     0   A reclaimer scheduling problem arising in coa...  \n",
       "2     1   Communication-Efficient Distributed Optimizat...  \n",
       "3     0   Consistent Classification Algorithms for Mult...  \n",
       "4     0   Managing key multicasting through orthogonal ...  "
      ]
     },
     "execution_count": 6,
     "metadata": {},
     "output_type": "execute_result"
    }
   ],
   "source": [
    "test.head(5)"
   ]
  },
  {
   "cell_type": "markdown",
   "metadata": {
    "id": "23EWmKVPqrRe"
   },
   "source": [
    "We only need information regarding the text and its classified labels. Therefore, we only retain relevants columns in `train` and `test`"
   ]
  },
  {
   "cell_type": "code",
   "execution_count": 5,
   "metadata": {
    "colab": {
     "base_uri": "https://localhost:8080/",
     "height": 206
    },
    "id": "Hmv5vyXpqrRe",
    "outputId": "0de205fe-7da0-4942-bfa9-f85cf4dd005a"
   },
   "outputs": [
    {
     "data": {
      "text/html": [
       "<div>\n",
       "<style scoped>\n",
       "    .dataframe tbody tr th:only-of-type {\n",
       "        vertical-align: middle;\n",
       "    }\n",
       "\n",
       "    .dataframe tbody tr th {\n",
       "        vertical-align: top;\n",
       "    }\n",
       "\n",
       "    .dataframe thead th {\n",
       "        text-align: right;\n",
       "    }\n",
       "</style>\n",
       "<table border=\"1\" class=\"dataframe\">\n",
       "  <thead>\n",
       "    <tr style=\"text-align: right;\">\n",
       "      <th></th>\n",
       "      <th>ID</th>\n",
       "      <th>InfoTheory</th>\n",
       "      <th>CompVis</th>\n",
       "      <th>Math</th>\n",
       "      <th>Abstract</th>\n",
       "    </tr>\n",
       "  </thead>\n",
       "  <tbody>\n",
       "    <tr>\n",
       "      <th>0</th>\n",
       "      <td>cs-9301111</td>\n",
       "      <td>0</td>\n",
       "      <td>0</td>\n",
       "      <td>0</td>\n",
       "      <td>Nested satisfiability A special case of the s...</td>\n",
       "    </tr>\n",
       "    <tr>\n",
       "      <th>1</th>\n",
       "      <td>cs-9301112</td>\n",
       "      <td>0</td>\n",
       "      <td>0</td>\n",
       "      <td>0</td>\n",
       "      <td>A note on digitized angles We study the confi...</td>\n",
       "    </tr>\n",
       "    <tr>\n",
       "      <th>2</th>\n",
       "      <td>cs-9301113</td>\n",
       "      <td>0</td>\n",
       "      <td>0</td>\n",
       "      <td>0</td>\n",
       "      <td>Textbook examples of recursion We discuss pro...</td>\n",
       "    </tr>\n",
       "    <tr>\n",
       "      <th>3</th>\n",
       "      <td>cs-9301114</td>\n",
       "      <td>0</td>\n",
       "      <td>0</td>\n",
       "      <td>0</td>\n",
       "      <td>Theory and practice The author argues to Sili...</td>\n",
       "    </tr>\n",
       "    <tr>\n",
       "      <th>4</th>\n",
       "      <td>cs-9301115</td>\n",
       "      <td>0</td>\n",
       "      <td>0</td>\n",
       "      <td>0</td>\n",
       "      <td>Context-free multilanguages This article is a...</td>\n",
       "    </tr>\n",
       "  </tbody>\n",
       "</table>\n",
       "</div>"
      ],
      "text/plain": [
       "           ID  ...                                           Abstract\n",
       "0  cs-9301111  ...   Nested satisfiability A special case of the s...\n",
       "1  cs-9301112  ...   A note on digitized angles We study the confi...\n",
       "2  cs-9301113  ...   Textbook examples of recursion We discuss pro...\n",
       "3  cs-9301114  ...   Theory and practice The author argues to Sili...\n",
       "4  cs-9301115  ...   Context-free multilanguages This article is a...\n",
       "\n",
       "[5 rows x 5 columns]"
      ]
     },
     "execution_count": 5,
     "metadata": {},
     "output_type": "execute_result"
    }
   ],
   "source": [
    "train=train[['ID','InfoTheory','CompVis','Math','Abstract']]\n",
    "test=test[['ID','InfoTheory','CompVis','Math','Abstract']]\n",
    "train.head(5)"
   ]
  },
  {
   "cell_type": "code",
   "execution_count": null,
   "metadata": {
    "id": "bKi5oES_qrRe",
    "outputId": "991eb6e8-c4b3-4918-dd75-63a7b1de8454"
   },
   "outputs": [
    {
     "data": {
      "text/html": [
       "<div>\n",
       "<style scoped>\n",
       "    .dataframe tbody tr th:only-of-type {\n",
       "        vertical-align: middle;\n",
       "    }\n",
       "\n",
       "    .dataframe tbody tr th {\n",
       "        vertical-align: top;\n",
       "    }\n",
       "\n",
       "    .dataframe thead th {\n",
       "        text-align: right;\n",
       "    }\n",
       "</style>\n",
       "<table border=\"1\" class=\"dataframe\">\n",
       "  <thead>\n",
       "    <tr style=\"text-align: right;\">\n",
       "      <th></th>\n",
       "      <th>ID</th>\n",
       "      <th>InfoTheory</th>\n",
       "      <th>CompVis</th>\n",
       "      <th>Math</th>\n",
       "      <th>Abstract</th>\n",
       "    </tr>\n",
       "  </thead>\n",
       "  <tbody>\n",
       "    <tr>\n",
       "      <th>0</th>\n",
       "      <td>no-150100335</td>\n",
       "      <td>0</td>\n",
       "      <td>0</td>\n",
       "      <td>0</td>\n",
       "      <td>A Data Transparency Framework for Mobile Appl...</td>\n",
       "    </tr>\n",
       "    <tr>\n",
       "      <th>1</th>\n",
       "      <td>no-14024178</td>\n",
       "      <td>0</td>\n",
       "      <td>0</td>\n",
       "      <td>0</td>\n",
       "      <td>A reclaimer scheduling problem arising in coa...</td>\n",
       "    </tr>\n",
       "    <tr>\n",
       "      <th>2</th>\n",
       "      <td>no-150100263</td>\n",
       "      <td>0</td>\n",
       "      <td>0</td>\n",
       "      <td>1</td>\n",
       "      <td>Communication-Efficient Distributed Optimizat...</td>\n",
       "    </tr>\n",
       "    <tr>\n",
       "      <th>3</th>\n",
       "      <td>no-150100287</td>\n",
       "      <td>0</td>\n",
       "      <td>0</td>\n",
       "      <td>0</td>\n",
       "      <td>Consistent Classification Algorithms for Mult...</td>\n",
       "    </tr>\n",
       "    <tr>\n",
       "      <th>4</th>\n",
       "      <td>no-11070586</td>\n",
       "      <td>0</td>\n",
       "      <td>0</td>\n",
       "      <td>0</td>\n",
       "      <td>Managing key multicasting through orthogonal ...</td>\n",
       "    </tr>\n",
       "  </tbody>\n",
       "</table>\n",
       "</div>"
      ],
      "text/plain": [
       "             ID  InfoTheory  CompVis  Math  \\\n",
       "0  no-150100335           0        0     0   \n",
       "1   no-14024178           0        0     0   \n",
       "2  no-150100263           0        0     1   \n",
       "3  no-150100287           0        0     0   \n",
       "4   no-11070586           0        0     0   \n",
       "\n",
       "                                            Abstract  \n",
       "0   A Data Transparency Framework for Mobile Appl...  \n",
       "1   A reclaimer scheduling problem arising in coa...  \n",
       "2   Communication-Efficient Distributed Optimizat...  \n",
       "3   Consistent Classification Algorithms for Mult...  \n",
       "4   Managing key multicasting through orthogonal ...  "
      ]
     },
     "execution_count": 8,
     "metadata": {},
     "output_type": "execute_result"
    }
   ],
   "source": [
    "test.head(5)"
   ]
  },
  {
   "cell_type": "code",
   "execution_count": null,
   "metadata": {
    "id": "W41CxEb2qrRe",
    "outputId": "27895518-3351-4ed3-c542-2d5c2ee54a60"
   },
   "outputs": [
    {
     "name": "stdout",
     "output_type": "stream",
     "text": [
      "(54731, 5)\n",
      "(19678, 5)\n"
     ]
    }
   ],
   "source": [
    "#we check for dimensions of training and testing data\n",
    "print(train.shape)  #54731 rows, 5 columns\n",
    "print(test.shape)   #19679 rows, 5 columns"
   ]
  },
  {
   "cell_type": "markdown",
   "metadata": {
    "id": "S_6U4y0LqrRf"
   },
   "source": [
    "Next, we check if there are any class imbalance issue in `train` and `test`"
   ]
  },
  {
   "cell_type": "code",
   "execution_count": null,
   "metadata": {
    "id": "zJxUV2avqrRf",
    "outputId": "a1c6bad7-501e-4f0e-8237-69163db0ba45"
   },
   "outputs": [
    {
     "name": "stdout",
     "output_type": "stream",
     "text": [
      "The proportion of Articles that belongs to InfoIheory, in the training set, is:  0.1925417039703276\n",
      "The proportion of Articles that belongs to Compvis, in the training set, is:  0.04063510624691674\n",
      "The proportion of Articles that belongs to Math, in the training set, is:  0.30562204235259727\n",
      "----------------------------------------------------------------------------------------------------\n",
      "The proportion of Articles that belongs to InfoIheory, in the testing set, is:  0.1837585120439069\n",
      "The proportion of Articles that belongs to Compvis, in the testing set, is:  0.1093607073889623\n",
      "The proportion of Articles that belongs to Math, in the testing set, is:  0.3013517633905885\n"
     ]
    }
   ],
   "source": [
    "print(\"The proportion of Articles that belongs to InfoIheory, in the training set, is: \",\n",
    "      train.loc[train.InfoTheory==1].shape[0]/train.shape[0])\n",
    "print(\"The proportion of Articles that belongs to Compvis, in the training set, is: \",\n",
    "      train.loc[train.CompVis==1].shape[0]/train.shape[0])\n",
    "print(\"The proportion of Articles that belongs to Math, in the training set, is: \",\n",
    "      train.loc[train.Math==1].shape[0]/train.shape[0])\n",
    "print('----------------------------------------------------------------------------------------------------')\n",
    "print(\"The proportion of Articles that belongs to InfoIheory, in the testing set, is: \",\n",
    "      test.loc[test.InfoTheory==1].shape[0]/test.shape[0])\n",
    "print(\"The proportion of Articles that belongs to Compvis, in the testing set, is: \",\n",
    "      test.loc[test.CompVis==1].shape[0]/test.shape[0])\n",
    "print(\"The proportion of Articles that belongs to Math, in the testing set, is: \",\n",
    "      test.loc[test.Math==1].shape[0]/test.shape[0])"
   ]
  },
  {
   "cell_type": "markdown",
   "metadata": {
    "id": "ekrIdCoLqrRg"
   },
   "source": [
    "There is a problem of class imbalance, for all 3 response variables, in both training and testing set. The problem is particularly more severe for `CompVis` and `InfoTheory`, especially `CompVis`"
   ]
  },
  {
   "cell_type": "markdown",
   "metadata": {
    "id": "Cht_3s6NqrRh"
   },
   "source": [
    "## 1. Text Classification <a class=\"anchor\" id=\"1\"></a>"
   ]
  },
  {
   "cell_type": "markdown",
   "metadata": {
    "id": "5P9iMF1IqrRi"
   },
   "source": [
    "For this portion of the project, I will compare between 2 different types of models when it comes to text classification: A statistical classifier in the form of `Logistic Regression`, and a deep learning approach involving a `Recurrent Neural Network`. "
   ]
  },
  {
   "cell_type": "markdown",
   "metadata": {
    "id": "gjadYw37qrRi"
   },
   "source": [
    "### Text Preprocessing\n",
    "\n",
    "For both of the models, they will have the same text preprocessing stage, involving:\n",
    "- Use TfidfVectorizer:\n",
    "    - Set Lowercase is True\n",
    "    - Allows for bigram\n",
    "    - A minimum document frequency of 2\n",
    "    - Use tokenizer and lemmatizer from WordNet from NLTK"
   ]
  },
  {
   "cell_type": "code",
   "execution_count": 6,
   "metadata": {
    "colab": {
     "base_uri": "https://localhost:8080/"
    },
    "id": "quBW57HIqrRi",
    "outputId": "61670238-96f5-4599-9c67-21eeb6980ccf"
   },
   "outputs": [
    {
     "name": "stdout",
     "output_type": "stream",
     "text": [
      "[nltk_data] Downloading package wordnet to /root/nltk_data...\n",
      "[nltk_data]   Unzipping corpora/wordnet.zip.\n",
      "[nltk_data] Downloading package punkt to /root/nltk_data...\n",
      "[nltk_data]   Unzipping tokenizers/punkt.zip.\n"
     ]
    },
    {
     "data": {
      "text/plain": [
       "True"
      ]
     },
     "execution_count": 6,
     "metadata": {},
     "output_type": "execute_result"
    }
   ],
   "source": [
    "nltk.download('wordnet')\n",
    "nltk.download('punkt')"
   ]
  },
  {
   "cell_type": "code",
   "execution_count": 7,
   "metadata": {
    "id": "VViCghbrqrRi"
   },
   "outputs": [],
   "source": [
    "#Define tokenizer and lemmatizer\n",
    "class LemmaTokenizerWordNet(object):\n",
    "    def __init__(self):\n",
    "        self.wnl=WordNetLemmatizer()\n",
    "    def __call__(self,doc):\n",
    "        #Tokenization, Lemmarization, remove stopword\n",
    "        return [self.wnl.lemmatize(t) for t in word_tokenize(doc)]"
   ]
  },
  {
   "cell_type": "code",
   "execution_count": 8,
   "metadata": {
    "id": "QaUib4QHqrRj"
   },
   "outputs": [],
   "source": [
    "#TfidfVectorizer\n",
    "tfidf_vectorizer=TfidfVectorizer(analyzer='word',input='content',\n",
    "                                lowercase=True,\n",
    "                                min_df=2, \n",
    "                                ngram_range=(1,2),\n",
    "                                tokenizer=LemmaTokenizerWordNet())"
   ]
  },
  {
   "cell_type": "code",
   "execution_count": 9,
   "metadata": {
    "colab": {
     "base_uri": "https://localhost:8080/"
    },
    "id": "Ahp8nPAsqrRj",
    "outputId": "1138d88d-da39-43bd-a296-27e82bc2ba1f"
   },
   "outputs": [
    {
     "data": {
      "text/plain": [
       "504251"
      ]
     },
     "execution_count": 9,
     "metadata": {},
     "output_type": "execute_result"
    }
   ],
   "source": [
    "#Vectorize the text data to get the features\n",
    "x_train=tfidf_vectorizer.fit_transform(train.Abstract.tolist())\n",
    "\n",
    "#Number of features\n",
    "len(tfidf_vectorizer.get_feature_names())"
   ]
  },
  {
   "cell_type": "code",
   "execution_count": 10,
   "metadata": {
    "id": "4GuFuj8zqrRj"
   },
   "outputs": [],
   "source": [
    "#Get all training data labels as arrays\n",
    "y_train_IT=np.asarray(train.InfoTheory.tolist())\n",
    "y_train_CV=np.asarray(train.CompVis.tolist())\n",
    "y_train_MA=np.asarray(train.Math.tolist())"
   ]
  },
  {
   "cell_type": "markdown",
   "metadata": {
    "id": "AvBLTzblqrRj"
   },
   "source": [
    "### 1.1 Logistic Regression <a class=\"anchor\" id=\"1.1\"></a>"
   ]
  },
  {
   "cell_type": "markdown",
   "metadata": {
    "id": "2emdTEIoqrRk"
   },
   "source": [
    "#### Model for InfoTheory"
   ]
  },
  {
   "cell_type": "code",
   "execution_count": 49,
   "metadata": {
    "colab": {
     "base_uri": "https://localhost:8080/"
    },
    "id": "-bp4lPPjqrRk",
    "outputId": "c8a3e07e-483b-473e-84cb-acb893959cbd"
   },
   "outputs": [
    {
     "name": "stdout",
     "output_type": "stream",
     "text": [
      "[[43841   352]\n",
      " [ 1657  8881]]\n"
     ]
    }
   ],
   "source": [
    "warnings.filterwarnings(\"ignore\", category=DeprecationWarning) \n",
    "\n",
    "IT_model=LogisticRegression().fit(x_train,y_train_IT)\n",
    "\n",
    "#Model performance on training set\n",
    "IT_predict_train=IT_model.predict(x_train)\n",
    "print(confusion_matrix(y_train_IT,IT_predict_train))"
   ]
  },
  {
   "cell_type": "markdown",
   "metadata": {
    "id": "aJ5uiuZEqrRk"
   },
   "source": [
    "#### Model for CompVis"
   ]
  },
  {
   "cell_type": "code",
   "execution_count": 50,
   "metadata": {
    "colab": {
     "base_uri": "https://localhost:8080/"
    },
    "id": "FDsDhzo5qrRk",
    "outputId": "5043b60a-c9dc-49e1-e3ce-415e46c7e666"
   },
   "outputs": [
    {
     "name": "stdout",
     "output_type": "stream",
     "text": [
      "[[52412    95]\n",
      " [  876  1348]]\n"
     ]
    }
   ],
   "source": [
    "CV_model=LogisticRegression().fit(x_train,y_train_CV)\n",
    "\n",
    "#Model performance on training set\n",
    "CV_predict_train=CV_model.predict(x_train)\n",
    "print(confusion_matrix(y_train_CV,CV_predict_train)) "
   ]
  },
  {
   "cell_type": "markdown",
   "metadata": {
    "id": "vJ3mNyEjqrRl"
   },
   "source": [
    "#### Model for Math"
   ]
  },
  {
   "cell_type": "code",
   "execution_count": 51,
   "metadata": {
    "colab": {
     "base_uri": "https://localhost:8080/"
    },
    "id": "7U9860V9qrRl",
    "outputId": "087ab115-eb8c-4d28-f6fd-0ef8e2eede34"
   },
   "outputs": [
    {
     "name": "stdout",
     "output_type": "stream",
     "text": [
      "[[37003  1001]\n",
      " [ 3213 13514]]\n"
     ]
    }
   ],
   "source": [
    "MA_model=LogisticRegression(max_iter=200).fit(x_train,y_train_MA)\n",
    "\n",
    "#Model performance on training set\n",
    "\n",
    "MA_predict_train=MA_model.predict(x_train)\n",
    "print(confusion_matrix(y_train_MA,MA_predict_train)) "
   ]
  },
  {
   "cell_type": "markdown",
   "metadata": {
    "id": "YppXJR02qrRl"
   },
   "source": [
    "### 1.2 Recurrent Neural Network <a class=\"anchor\" id=\"1.2\"></a>\n",
    "\n",
    "We will implement an RNN with LSTM architecture, with directionality, more layers and regularization with dropout. We will use make use of GPU on **Google Colab**"
   ]
  },
  {
   "cell_type": "code",
   "execution_count": 11,
   "metadata": {
    "id": "hMadSjTGqrRl"
   },
   "outputs": [],
   "source": [
    "#More Advanced RNN, with LSTM architecture, bidirectional, more layers, dropout\n",
    "import torch.nn as nn\n",
    "\n",
    "class RNN(nn.Module):\n",
    "    def __init__(self, vocab_size, embedding_dim, hidden_dim, output_dim,\n",
    "                 n_layers,bidirectional,dropout):\n",
    "        super().__init__()\n",
    "        self.embedding = nn.Embedding(vocab_size, embedding_dim)\n",
    "\n",
    "        #Long-short term memory (LSTM) architecture\n",
    "        self.rnn = nn.LSTM(embedding_dim, \n",
    "                           hidden_dim, \n",
    "                           num_layers=n_layers,  #Allows for more layers\n",
    "                           bidirectional=bidirectional)  #birecdirectional\n",
    "        self.dropout=nn.Dropout(dropout)  #dropout\n",
    "        self.fc = nn.Linear(hidden_dim * 2, output_dim)\n",
    "        \n",
    "    def forward(self, text):\n",
    "        embedded = self.embedding(text)\n",
    "        output, (hidden, cell) = self.rnn(embedded)\n",
    "        hidden = self.dropout(torch.cat((hidden[-2,:,:], hidden[-1,:,:]), dim = 1))\n",
    "        return self.fc(hidden)"
   ]
  },
  {
   "cell_type": "code",
   "execution_count": 28,
   "metadata": {
    "colab": {
     "base_uri": "https://localhost:8080/"
    },
    "id": "b9hg4tBxqrRl",
    "outputId": "b0104e57-0381-419b-b7a4-e0a5a0eaeb33"
   },
   "outputs": [
    {
     "data": {
      "text/plain": [
       "True"
      ]
     },
     "execution_count": 28,
     "metadata": {},
     "output_type": "execute_result"
    }
   ],
   "source": [
    "#Check if GPU option on Google Colab is on\n",
    "torch.cuda.is_available()"
   ]
  },
  {
   "cell_type": "code",
   "execution_count": 14,
   "metadata": {
    "id": "Ox7bPflFqrRm"
   },
   "outputs": [],
   "source": [
    "torch.manual_seed(2021)\n",
    "\n",
    "#Ensures that cuda selects the same algorithm each time an application is ran\n",
    "torch.backends.cudnn.deterministic=True"
   ]
  },
  {
   "cell_type": "code",
   "execution_count": 18,
   "metadata": {
    "id": "Dp8DtRGRqrRm"
   },
   "outputs": [],
   "source": [
    "#nltk\n",
    "TEXT_nltk=data.Field(tokenize=word_tokenize,lower=True)\n",
    "LABEL_nltk=data.LabelField(dtype=torch.float,use_vocab=False,preprocessing=int)\n",
    "\n",
    "#Define the datafields\n",
    "datafields_IT=[('ID',None),('URL',None),('Date',None),('Title',None),\n",
    "               ('InfoTheory',LABEL_nltk),('CompVis',None),('Math',None),('Abstract',TEXT_nltk)]\n",
    "datafields_CV=[('ID',None),('URL',None),('Date',None),('Title',None),\n",
    "                ('InfoTheory',None),('CompVis',LABEL_nltk),('Math',None),('Abstract',TEXT_nltk)]\n",
    "datafields_MA=[('ID',None),('URL',None),('Date',None),('Title',None),\n",
    "                ('InfoTheory',None),('CompVis',None),('Math',LABEL_nltk),('Abstract',TEXT_nltk)]\n",
    "#TabularDataset for InfoTheory \n",
    "train_data_IT,test_data_IT=TabularDataset.splits(\n",
    "    path='/content',\n",
    "    train='train.csv',\n",
    "    test='test.csv',\n",
    "    format='csv',\n",
    "    skip_header=True,\n",
    "    fields=datafields_IT)\n",
    "\n",
    "#TabularDataset for Compvis\n",
    "train_data_CV,test_data_CV=TabularDataset.splits(\n",
    "    path='/content',\n",
    "    train='train.csv',\n",
    "    test='test.csv',\n",
    "    format='csv',\n",
    "    skip_header=True,\n",
    "    fields=datafields_CV)\n",
    "\n",
    "#TabularDataset for Math\n",
    "train_data_MA,test_data_MA=TabularDataset.splits(\n",
    "    path='/content',\n",
    "    train='train.csv',\n",
    "    test='test.csv',\n",
    "    format='csv',\n",
    "    skip_header=True,\n",
    "    fields=datafields_MA)"
   ]
  },
  {
   "cell_type": "markdown",
   "metadata": {
    "id": "leryTItZwANl"
   },
   "source": [
    "Model for InfoTheory"
   ]
  },
  {
   "cell_type": "code",
   "execution_count": 19,
   "metadata": {
    "colab": {
     "base_uri": "https://localhost:8080/"
    },
    "id": "miaJUZnGuFsO",
    "outputId": "c2ea9a0f-9add-422e-c8ee-2a6e0bc1f81b"
   },
   "outputs": [
    {
     "data": {
      "text/plain": [
       "126267"
      ]
     },
     "execution_count": 19,
     "metadata": {},
     "output_type": "execute_result"
    }
   ],
   "source": [
    "TEXT_nltk.build_vocab(train_data_IT)\n",
    "len(TEXT_nltk.vocab)"
   ]
  },
  {
   "cell_type": "code",
   "execution_count": 21,
   "metadata": {
    "id": "-u7eFEzmuFwY"
   },
   "outputs": [],
   "source": [
    "BATCH_SIZE=32\n",
    "device=torch.device('cuda' if torch.cuda.is_available() else 'cpu')\n",
    "\n",
    "#Create train and test iterator\n",
    "train_iterator_IT,test_iterator_IT=data.BucketIterator.splits(\n",
    "    (train_data_IT,test_data_IT),\n",
    "    batch_size=BATCH_SIZE,\n",
    "    device=device,\n",
    "    sort_key=lambda x:len(x.Abstract),  \n",
    "    sort_within_batch=False\n",
    ")"
   ]
  },
  {
   "cell_type": "code",
   "execution_count": 29,
   "metadata": {
    "id": "BwBAuBrQuFzX"
   },
   "outputs": [],
   "source": [
    "INPUT_DIM=len(TEXT_nltk.vocab)\n",
    "EMBEDDING_DIM=100\n",
    "HIDDEN_DIM=256\n",
    "OUTPUT_DIM=1\n",
    "N_LAYERS = 3  #try 3 hidden layers\n",
    "BIDIRECTIONAL = True\n",
    "DROPOUT=0.5\n",
    "\n",
    "model_IT= RNN(INPUT_DIM, \n",
    "            EMBEDDING_DIM, \n",
    "            HIDDEN_DIM, \n",
    "            OUTPUT_DIM, \n",
    "            N_LAYERS,\n",
    "            BIDIRECTIONAL,\n",
    "            DROPOUT)"
   ]
  },
  {
   "cell_type": "code",
   "execution_count": 30,
   "metadata": {
    "id": "ReUD82jLwgBg"
   },
   "outputs": [],
   "source": [
    "#optimizer\n",
    "optimizer_IT=optim.SGD(model_IT.parameters(),lr=1e-1)\n",
    "\n",
    "#Loss function\n",
    "criterion=nn.BCEWithLogitsLoss()"
   ]
  },
  {
   "cell_type": "code",
   "execution_count": 31,
   "metadata": {
    "id": "HlGRTbhhwgEb"
   },
   "outputs": [],
   "source": [
    "#Make use of GPU on google colab to accelerate the Neural Networking training process\n",
    "model_IT=model_IT.to(device)\n",
    "criterion=criterion.to(device)"
   ]
  },
  {
   "cell_type": "code",
   "execution_count": 32,
   "metadata": {
    "id": "gDNBL5CkxJ3k"
   },
   "outputs": [],
   "source": [
    "def train_IT(model,iterator,optimizer,criterion):\n",
    "    epoch_loss=0\n",
    "    model.train()\n",
    "\n",
    "    for batch in iterator:\n",
    "        optimizer.zero_grad()\n",
    "\n",
    "        predictions=model(batch.Abstract).squeeze(1)\n",
    "        loss=criterion(predictions,batch.InfoTheory)\n",
    "        loss.backward()\n",
    "        optimizer.step()\n",
    "        epoch_loss+=loss.item()\n",
    "\n",
    "    return epoch_loss/len(iterator)\n",
    "\n",
    "def epoch_time(start_time, end_time):\n",
    "    elapsed_time = end_time - start_time\n",
    "    elapsed_mins = int(elapsed_time / 60)\n",
    "    elapsed_secs = int(elapsed_time - (elapsed_mins * 60))\n",
    "    return elapsed_mins, elapsed_secs"
   ]
  },
  {
   "cell_type": "code",
   "execution_count": 33,
   "metadata": {
    "colab": {
     "base_uri": "https://localhost:8080/"
    },
    "id": "kejfjxqNwy4e",
    "outputId": "9b7938a0-2680-47f9-88f5-89161f4b1fd6"
   },
   "outputs": [
    {
     "name": "stdout",
     "output_type": "stream",
     "text": [
      "Epoch: 0 | Epoch Time: 9m 22s\n",
      "\tTrain Loss: 0.464\n",
      "Epoch: 1 | Epoch Time: 9m 23s\n",
      "\tTrain Loss: 0.304\n",
      "Epoch: 2 | Epoch Time: 9m 22s\n",
      "\tTrain Loss: 0.220\n",
      "Epoch: 3 | Epoch Time: 9m 21s\n",
      "\tTrain Loss: 0.192\n",
      "Epoch: 4 | Epoch Time: 9m 22s\n",
      "\tTrain Loss: 0.164\n",
      "Epoch: 5 | Epoch Time: 9m 22s\n",
      "\tTrain Loss: 0.152\n"
     ]
    }
   ],
   "source": [
    "N_EPOCHS=6\n",
    "\n",
    "for epoch in range(N_EPOCHS):\n",
    "    start_time=time.time()\n",
    "    train_loss=train_IT(model_IT,train_iterator_IT,optimizer_IT,criterion)\n",
    "\n",
    "    end_time=time.time()\n",
    "    epoch_mins,epoch_secs=epoch_time(start_time,end_time)\n",
    "\n",
    "    print(f'Epoch: {epoch} | Epoch Time: {epoch_mins}m {epoch_secs}s')\n",
    "    print(f'\\tTrain Loss: {train_loss:.3f}')\n"
   ]
  },
  {
   "cell_type": "code",
   "execution_count": 58,
   "metadata": {
    "id": "2CLQa0Igwy-4"
   },
   "outputs": [],
   "source": [
    "y_predict = []\n",
    "y_test = []\n",
    "\n",
    "model_IT.eval()\n",
    "with torch.no_grad():\n",
    "    for batch in test_iterator_IT:\n",
    "        predictions = model_IT(batch.Abstract)\n",
    "        rounded_preds = torch.round(torch.sigmoid(predictions))\n",
    "        y_predict += rounded_preds.tolist()\n",
    "        y_test += batch.InfoTheory.tolist()\n",
    "y_predict_IT = np.asarray(y_predict)\n",
    "y_test_IT_rnn = np.asarray(y_test)"
   ]
  },
  {
   "cell_type": "markdown",
   "metadata": {
    "id": "qXYTStm7wDyv"
   },
   "source": [
    "Model for CompVis"
   ]
  },
  {
   "cell_type": "code",
   "execution_count": 36,
   "metadata": {
    "id": "1Fl1isOCuF1_"
   },
   "outputs": [],
   "source": [
    "TEXT_nltk.build_vocab(train_data_CV)\n",
    "\n",
    "#Create train and test iterator\n",
    "train_iterator_CV,test_iterator_CV=data.BucketIterator.splits(\n",
    "    (train_data_CV,test_data_CV),\n",
    "    batch_size=BATCH_SIZE,\n",
    "    device=device,\n",
    "    sort_key=lambda x:len(x.Abstract), \n",
    "    sort_within_batch=False\n",
    ")"
   ]
  },
  {
   "cell_type": "code",
   "execution_count": 37,
   "metadata": {
    "id": "WGg8SdkUwGcv"
   },
   "outputs": [],
   "source": [
    "INPUT_DIM=len(TEXT_nltk.vocab)\n",
    "EMBEDDING_DIM=100\n",
    "HIDDEN_DIM=256\n",
    "OUTPUT_DIM=1\n",
    "N_LAYERS = 3  #try 3 hidden layers\n",
    "BIDIRECTIONAL = True\n",
    "DROPOUT=0.5\n",
    "\n",
    "model_CV= RNN(INPUT_DIM, \n",
    "            EMBEDDING_DIM, \n",
    "            HIDDEN_DIM, \n",
    "            OUTPUT_DIM, \n",
    "            N_LAYERS,\n",
    "            BIDIRECTIONAL,\n",
    "            DROPOUT)\n",
    "\n",
    "optimizer_CV=optim.SGD(model_CV.parameters(),lr=1e-1)\n",
    "\n",
    "criterion=nn.BCEWithLogitsLoss()\n",
    "\n",
    "model_CV=model_CV.to(device)\n",
    "criterion=criterion.to(device)"
   ]
  },
  {
   "cell_type": "code",
   "execution_count": 38,
   "metadata": {
    "id": "XyzI7LHtwGfg"
   },
   "outputs": [],
   "source": [
    "def train_CV(model,iterator,optimizer,criterion):\n",
    "    epoch_loss=0\n",
    "    model.train()\n",
    "\n",
    "    for batch in iterator:\n",
    "        optimizer.zero_grad()\n",
    "\n",
    "        predictions=model(batch.Abstract).squeeze(1)\n",
    "        loss=criterion(predictions,batch.CompVis)\n",
    "        loss.backward()\n",
    "        optimizer.step()\n",
    "        epoch_loss+=loss.item()\n",
    "\n",
    "    return epoch_loss/len(iterator)"
   ]
  },
  {
   "cell_type": "code",
   "execution_count": 39,
   "metadata": {
    "colab": {
     "base_uri": "https://localhost:8080/"
    },
    "id": "PI_x-RRjBKvj",
    "outputId": "0064c126-de77-424a-9761-df239074214d"
   },
   "outputs": [
    {
     "name": "stdout",
     "output_type": "stream",
     "text": [
      "Epoch: 0 | Epoch Time: 9m 18s\n",
      "\tTrain Loss: 0.175\n",
      "Epoch: 1 | Epoch Time: 9m 19s\n",
      "\tTrain Loss: 0.168\n",
      "Epoch: 2 | Epoch Time: 9m 19s\n",
      "\tTrain Loss: 0.129\n",
      "Epoch: 3 | Epoch Time: 9m 20s\n",
      "\tTrain Loss: 0.105\n",
      "Epoch: 4 | Epoch Time: 9m 20s\n",
      "\tTrain Loss: 0.091\n",
      "Epoch: 5 | Epoch Time: 9m 19s\n",
      "\tTrain Loss: 0.082\n"
     ]
    }
   ],
   "source": [
    "N_EPOCHS=6\n",
    "\n",
    "for epoch in range(N_EPOCHS):\n",
    "    start_time=time.time()\n",
    "    train_loss=train_CV(model_CV,train_iterator_CV,optimizer_CV,criterion)\n",
    "\n",
    "    end_time=time.time()\n",
    "    epoch_mins,epoch_secs=epoch_time(start_time,end_time)\n",
    "\n",
    "    print(f'Epoch: {epoch} | Epoch Time: {epoch_mins}m {epoch_secs}s')\n",
    "    print(f'\\tTrain Loss: {train_loss:.3f}')"
   ]
  },
  {
   "cell_type": "code",
   "execution_count": 59,
   "metadata": {
    "id": "sRJab9Z3BZJC"
   },
   "outputs": [],
   "source": [
    "y_predict = []\n",
    "y_test = []\n",
    "\n",
    "model_CV.eval()\n",
    "with torch.no_grad():\n",
    "    for batch in test_iterator_CV:\n",
    "        predictions = model_CV(batch.Abstract)\n",
    "        rounded_preds = torch.round(torch.sigmoid(predictions))\n",
    "        y_predict += rounded_preds.tolist()\n",
    "        y_test += batch.CompVis.tolist()\n",
    "\n",
    "y_predict_CV = np.asarray(y_predict)\n",
    "y_test_CV_rnn = np.asarray(y_test)"
   ]
  },
  {
   "cell_type": "markdown",
   "metadata": {
    "id": "FpNEjPTzwGmC"
   },
   "source": [
    "Model for Math"
   ]
  },
  {
   "cell_type": "code",
   "execution_count": 41,
   "metadata": {
    "id": "Bs5ygFcouF4e"
   },
   "outputs": [],
   "source": [
    "TEXT_nltk.build_vocab(train_data_MA)\n",
    "\n",
    "train_iterator_MA,test_iterator_MA=data.BucketIterator.splits(\n",
    "    (train_data_MA,test_data_MA),\n",
    "    batch_size=BATCH_SIZE,\n",
    "    device=device,\n",
    "    sort_key=lambda x:len(x.Abstract), \n",
    "    sort_within_batch=False\n",
    ")"
   ]
  },
  {
   "cell_type": "code",
   "execution_count": 42,
   "metadata": {
    "id": "b7toqK1kBdH3"
   },
   "outputs": [],
   "source": [
    "INPUT_DIM=len(TEXT_nltk.vocab)\n",
    "EMBEDDING_DIM=100\n",
    "HIDDEN_DIM=256\n",
    "OUTPUT_DIM=1\n",
    "N_LAYERS = 3  #try 3 hidden layers\n",
    "BIDIRECTIONAL = True\n",
    "DROPOUT=0.5\n",
    "\n",
    "model_MA= RNN(INPUT_DIM, \n",
    "            EMBEDDING_DIM, \n",
    "            HIDDEN_DIM, \n",
    "            OUTPUT_DIM, \n",
    "            N_LAYERS,\n",
    "            BIDIRECTIONAL,\n",
    "            DROPOUT)\n",
    "\n",
    "optimizer_MA=optim.SGD(model_MA.parameters(),lr=1e-1)\n",
    "\n",
    "criterion=nn.BCEWithLogitsLoss()\n",
    "\n",
    "model_MA=model_MA.to(device)\n",
    "criterion=criterion.to(device)"
   ]
  },
  {
   "cell_type": "code",
   "execution_count": 43,
   "metadata": {
    "id": "Fc1b0mO8BdL7"
   },
   "outputs": [],
   "source": [
    "def train_MA(model,iterator,optimizer,criterion):\n",
    "    epoch_loss=0\n",
    "    model.train()\n",
    "\n",
    "    for batch in iterator:\n",
    "        optimizer.zero_grad()\n",
    "\n",
    "        predictions=model(batch.Abstract).squeeze(1)\n",
    "        loss=criterion(predictions,batch.Math)\n",
    "        loss.backward()\n",
    "        optimizer.step()\n",
    "        epoch_loss+=loss.item()\n",
    "\n",
    "    return epoch_loss/len(iterator)"
   ]
  },
  {
   "cell_type": "code",
   "execution_count": 44,
   "metadata": {
    "colab": {
     "base_uri": "https://localhost:8080/"
    },
    "id": "umjVM70VBdQH",
    "outputId": "0a21a427-f1fe-486c-fa45-f40952ac6e8a"
   },
   "outputs": [
    {
     "name": "stdout",
     "output_type": "stream",
     "text": [
      "Epoch: 0 | Epoch Time: 9m 25s\n",
      "\tTrain Loss: 0.609\n",
      "Epoch: 1 | Epoch Time: 9m 27s\n",
      "\tTrain Loss: 0.495\n",
      "Epoch: 2 | Epoch Time: 9m 25s\n",
      "\tTrain Loss: 0.397\n",
      "Epoch: 3 | Epoch Time: 9m 26s\n",
      "\tTrain Loss: 0.351\n",
      "Epoch: 4 | Epoch Time: 9m 27s\n",
      "\tTrain Loss: 0.326\n",
      "Epoch: 5 | Epoch Time: 9m 28s\n",
      "\tTrain Loss: 0.308\n"
     ]
    }
   ],
   "source": [
    "N_EPOCHS=6\n",
    "\n",
    "for epoch in range(N_EPOCHS):\n",
    "    start_time=time.time()\n",
    "    train_loss=train_MA(model_MA,train_iterator_MA,optimizer_MA,criterion)\n",
    "\n",
    "    end_time=time.time()\n",
    "    epoch_mins,epoch_secs=epoch_time(start_time,end_time)\n",
    "\n",
    "    print(f'Epoch: {epoch} | Epoch Time: {epoch_mins}m {epoch_secs}s')\n",
    "    print(f'\\tTrain Loss: {train_loss:.3f}')"
   ]
  },
  {
   "cell_type": "code",
   "execution_count": 60,
   "metadata": {
    "id": "hJIDE0LcBdS3"
   },
   "outputs": [],
   "source": [
    "y_predict = []\n",
    "y_test = []\n",
    "\n",
    "model_MA.eval()\n",
    "with torch.no_grad():\n",
    "    for batch in test_iterator_MA:\n",
    "        predictions = model_MA(batch.Abstract)\n",
    "        rounded_preds = torch.round(torch.sigmoid(predictions))\n",
    "        y_predict += rounded_preds.tolist()\n",
    "        y_test += batch.Math.tolist()\n",
    "y_predict_MA = np.asarray(y_predict)\n",
    "y_test_MA_rnn = np.asarray(y_test)"
   ]
  },
  {
   "cell_type": "markdown",
   "metadata": {
    "id": "jINd-DHFqrRm"
   },
   "source": [
    "### 1.3 Comparison and Evaluation <a class=\"anchor\" id=\"1.3\"></a>"
   ]
  },
  {
   "cell_type": "markdown",
   "metadata": {
    "id": "3WhSgQQthc8h"
   },
   "source": [
    "#### Model Performance Comparison for InfoTheory"
   ]
  },
  {
   "cell_type": "code",
   "execution_count": 62,
   "metadata": {
    "id": "o7q9FAjveZQV"
   },
   "outputs": [],
   "source": [
    "#test label as arrays\n",
    "y_test_IT=np.asarray(test.InfoTheory.tolist())\n",
    "y_test_CV=np.asarray(test.CompVis.tolist())\n",
    "y_test_MA=np.asarray(test.Math.tolist())"
   ]
  },
  {
   "cell_type": "code",
   "execution_count": 63,
   "metadata": {
    "colab": {
     "base_uri": "https://localhost:8080/"
    },
    "id": "khr7lrmldnpv",
    "outputId": "dde1446f-7f34-4575-beae-1bf7da5a9624"
   },
   "outputs": [
    {
     "name": "stdout",
     "output_type": "stream",
     "text": [
      "[[15905   157]\n",
      " [  885  2731]]\n",
      "Precision of Logistics Regression: 0.9456371191135734\n",
      "Recall of Logistic Regression: 0.755254424778761\n",
      "F1 score of Logistic Regression: 0.8397908979089791\n"
     ]
    }
   ],
   "source": [
    "x_train=tfidf_vectorizer.fit_transform(train.Abstract.tolist())\n",
    "x_test=tfidf_vectorizer.transform(test.Abstract.tolist())\n",
    "\n",
    "#Logistic regression\n",
    "IT_predict_test=IT_model.predict(x_test)\n",
    "print(confusion_matrix(y_test_IT,IT_predict_test))\n",
    "\n",
    "#Report F1,recall,precision\n",
    "recall_IT_predict_test=recall_score(y_test_IT,IT_predict_test)\n",
    "precision_IT_predict_test=precision_score(y_test_IT,IT_predict_test)\n",
    "f1score_IT_predict_test=f1_score(y_test_IT,IT_predict_test)\n",
    "print('Precision of Logistics Regression: '+str(precision_IT_predict_test))\n",
    "print('Recall of Logistic Regression: '+ str(recall_IT_predict_test))\n",
    "print('F1 score of Logistic Regression: '+str(f1score_IT_predict_test))"
   ]
  },
  {
   "cell_type": "code",
   "execution_count": 64,
   "metadata": {
    "colab": {
     "base_uri": "https://localhost:8080/"
    },
    "id": "UPClWyGdqrRn",
    "outputId": "fd91903d-e828-42a2-dc95-ee1819610756"
   },
   "outputs": [
    {
     "name": "stdout",
     "output_type": "stream",
     "text": [
      "[[15482   580]\n",
      " [  673  2943]]\n",
      "Precision of RNN: 0.8353675844450752\n",
      "Recall of RNN: 0.8138827433628318\n",
      "F1 score of RNN:0.8244852220198908\n"
     ]
    }
   ],
   "source": [
    "#RNN \n",
    "print(confusion_matrix(y_test_IT_rnn,y_predict_IT))\n",
    "\n",
    "#Report F1,recall,precision\n",
    "recall_IT_predict_rnn=recall_score(y_test_IT_rnn,y_predict_IT)\n",
    "precision_IT_predict_rnn=precision_score(y_test_IT_rnn,y_predict_IT)\n",
    "f1score_IT_predict_rnn=f1_score(y_test_IT_rnn,y_predict_IT)\n",
    "print('Precision of RNN: '+str(precision_IT_predict_rnn))\n",
    "print('Recall of RNN: '+str(recall_IT_predict_rnn))\n",
    "print('F1 score of RNN:'+str(f1score_IT_predict_rnn))"
   ]
  },
  {
   "cell_type": "code",
   "execution_count": 69,
   "metadata": {
    "id": "wV5cWD1hdXUT"
   },
   "outputs": [],
   "source": [
    "#Get precision-recall curve for logistic regression\n",
    "lr_precision_IT,lr_recall_IT,_=precision_recall_curve(y_test_IT,IT_model.predict_proba(x_test)[:,1])\n",
    "\n",
    "\n",
    "#Get precision-recall curve for RNN\n",
    "rnn_pred_IT=[]\n",
    "\n",
    "for batch in test_iterator_IT:\n",
    "    predictions = model_IT(batch.Abstract)\n",
    "    rounded_preds = torch.sigmoid(predictions)\n",
    "    rnn_pred_IT+=rounded_preds.tolist()\n",
    "\n",
    "rnn_precision_IT,rnn_recall_IT,_=precision_recall_curve(y_test_IT_rnn,\n",
    "                                                np.asarray([i[0] for i in rnn_pred_IT]))"
   ]
  },
  {
   "cell_type": "code",
   "execution_count": 75,
   "metadata": {
    "colab": {
     "base_uri": "https://localhost:8080/",
     "height": 295
    },
    "id": "hVrjq8l-dXXT",
    "outputId": "0cdc2811-5e20-4bb3-95a9-4afaffc83d0b"
   },
   "outputs": [
    {
     "data": {
      "image/png": "[encoded data removed]",
      "text/plain": [
       "<Figure size 432x288 with 1 Axes>"
      ]
     },
     "metadata": {
      "needs_background": "light"
     },
     "output_type": "display_data"
    }
   ],
   "source": [
    "#Precision-recall curve for the Logistics Regression VS Recurrent Neural Networking, modelling InfoTheory\n",
    "plt.plot(lr_recall_IT,lr_precision_IT,color='red',label='Logistic Regression')\n",
    "plt.plot(rnn_recall_IT,rnn_precision_IT,color='blue',label='Recurrent Neural Network')\n",
    "plt.xlabel('Recall')\n",
    "plt.ylabel('Precision')\n",
    "plt.legend(loc=\"upper right\")\n",
    "plt.title('Precision-recall curve of Logistic Regression VS RNN for InfoTheory')\n",
    "plt.show()"
   ]
  },
  {
   "cell_type": "code",
   "execution_count": 76,
   "metadata": {
    "colab": {
     "base_uri": "https://localhost:8080/"
    },
    "id": "pgsG-Hh5dXaN",
    "outputId": "b482ab3a-6b86-4a11-84ca-8469214acfb5"
   },
   "outputs": [
    {
     "name": "stdout",
     "output_type": "stream",
     "text": [
      "AUC of Logistic Regression is:  0.9449131759677816\n",
      "AUC of Recurrent Neural Network is:  0.8970250566136058\n"
     ]
    }
   ],
   "source": [
    "print('AUC of Logistic Regression is: ',auc(lr_recall_IT,lr_precision_IT))\n",
    "print('AUC of Recurrent Neural Network is: ',auc(rnn_recall_IT,rnn_precision_IT))"
   ]
  },
  {
   "cell_type": "markdown",
   "metadata": {
    "id": "tTelqdaUj3L6"
   },
   "source": [
    "#### Model Performance Comparison for CompVis"
   ]
  },
  {
   "cell_type": "code",
   "execution_count": 72,
   "metadata": {
    "colab": {
     "base_uri": "https://localhost:8080/"
    },
    "id": "i8OXdAiddXcY",
    "outputId": "02859cc9-8bae-415b-ae74-a85e1cf3d105"
   },
   "outputs": [
    {
     "name": "stdout",
     "output_type": "stream",
     "text": [
      "[[17470    56]\n",
      " [  908  1244]]\n",
      "Precision of Logistic Regression: 0.9569230769230769\n",
      "Recall of Logistic Regression: 0.5780669144981413\n",
      "F1 score of Logistic Regression:0.7207415990730011\n"
     ]
    }
   ],
   "source": [
    "#Logistic regression\n",
    "CV_predict_test=CV_model.predict(x_test)\n",
    "print(confusion_matrix(y_test_CV,CV_predict_test))\n",
    "\n",
    "#Report F1,recall,precision\n",
    "recall_CV_predict_test=recall_score(y_test_CV,CV_predict_test)\n",
    "precision_CV_predict_test=precision_score(y_test_CV,CV_predict_test)\n",
    "f1score_CV_predict_test=f1_score(y_test_CV,CV_predict_test)\n",
    "print('Precision of Logistic Regression: '+str(precision_CV_predict_test))\n",
    "print('Recall of Logistic Regression: '+str(recall_CV_predict_test))\n",
    "print('F1 score of Logistic Regression:'+str(f1score_CV_predict_test))"
   ]
  },
  {
   "cell_type": "code",
   "execution_count": 73,
   "metadata": {
    "colab": {
     "base_uri": "https://localhost:8080/"
    },
    "id": "KQRk7yFMdXfC",
    "outputId": "030014e6-502b-41fa-f4d9-667108bc7982"
   },
   "outputs": [
    {
     "name": "stdout",
     "output_type": "stream",
     "text": [
      "[[17360   166]\n",
      " [  825  1327]]\n",
      "Precision of RNN: 0.8888144675150703\n",
      "Recall of RNN: 0.616635687732342\n",
      "F1 score of RNN:0.7281207133058984\n"
     ]
    }
   ],
   "source": [
    "#RNN\n",
    "print(confusion_matrix(y_test_CV_rnn,y_predict_CV))\n",
    "\n",
    "#Report F1,recall,precision\n",
    "recall_CV_predict_rnn=recall_score(y_test_CV_rnn,y_predict_CV)\n",
    "precision_CV_predict_rnn=precision_score(y_test_CV_rnn,y_predict_CV)\n",
    "f1score_CV_predict_rnn=f1_score(y_test_CV_rnn,y_predict_CV)\n",
    "print('Precision of RNN: '+str(precision_CV_predict_rnn))\n",
    "print('Recall of RNN: '+str(recall_CV_predict_rnn))\n",
    "print('F1 score of RNN:'+str(f1score_CV_predict_rnn))"
   ]
  },
  {
   "cell_type": "code",
   "execution_count": 74,
   "metadata": {
    "id": "WWitKkGeqrRn"
   },
   "outputs": [],
   "source": [
    "#Get precision-recall curve for logistic regression\n",
    "lr_precision_CV,lr_recall_CV,_=precision_recall_curve(y_test_CV,CV_model.predict_proba(x_test)[:,1])\n",
    "\n",
    "\n",
    "#Get precision-recall curve for RNN\n",
    "rnn_pred_CV=[]\n",
    "\n",
    "for batch in test_iterator_CV:\n",
    "    predictions = model_CV(batch.Abstract)\n",
    "    rounded_preds = torch.sigmoid(predictions)\n",
    "    rnn_pred_CV+=rounded_preds.tolist()\n",
    "\n",
    "rnn_precision_CV,rnn_recall_CV,_=precision_recall_curve(y_test_CV_rnn,\n",
    "                                                np.asarray([i[0] for i in rnn_pred_CV]))"
   ]
  },
  {
   "cell_type": "code",
   "execution_count": 77,
   "metadata": {
    "colab": {
     "base_uri": "https://localhost:8080/",
     "height": 295
    },
    "id": "oTrxxa1Jk3ms",
    "outputId": "e08c5efc-e619-40ef-a56f-e3479b603116"
   },
   "outputs": [
    {
     "data": {
      "image/png": "[encoded data removed]",
      "text/plain": [
       "<Figure size 432x288 with 1 Axes>"
      ]
     },
     "metadata": {
      "needs_background": "light"
     },
     "output_type": "display_data"
    }
   ],
   "source": [
    "#Precision-recall curve for the Logistics Regression VS Recurrent Neural Networking, modelling CompVis\n",
    "plt.plot(lr_recall_CV,lr_precision_CV,color='red',label='Logistic Regression')\n",
    "plt.plot(rnn_recall_CV,rnn_precision_CV,color='blue',label='Recurrent Neural Network')\n",
    "plt.xlabel('Recall')\n",
    "plt.ylabel('Precision')\n",
    "plt.legend(loc=\"upper right\")\n",
    "plt.title('Precision-recall curve of Logistic Regression VS RNN for CompVis')\n",
    "plt.show()"
   ]
  },
  {
   "cell_type": "code",
   "execution_count": 78,
   "metadata": {
    "colab": {
     "base_uri": "https://localhost:8080/"
    },
    "id": "nfd9Fd3Lk3pY",
    "outputId": "d560f182-acda-4a19-c389-398ecee597db"
   },
   "outputs": [
    {
     "name": "stdout",
     "output_type": "stream",
     "text": [
      "AUC of Logistic Regression is:  0.9291191926613459\n",
      "AUC of Recurrent Neural Network is:  0.8117752009481692\n"
     ]
    }
   ],
   "source": [
    "print('AUC of Logistic Regression is: ',auc(lr_recall_CV,lr_precision_CV))\n",
    "print('AUC of Recurrent Neural Network is: ',auc(rnn_recall_CV,rnn_precision_CV))"
   ]
  },
  {
   "cell_type": "markdown",
   "metadata": {
    "id": "2yj4ZdtYluqL"
   },
   "source": [
    "#### Model Performance Comparison for Math"
   ]
  },
  {
   "cell_type": "code",
   "execution_count": 79,
   "metadata": {
    "colab": {
     "base_uri": "https://localhost:8080/"
    },
    "id": "9Xma47aEk4lt",
    "outputId": "b30f1749-790e-4bf8-ff9a-3bea5b56d7b7"
   },
   "outputs": [
    {
     "name": "stdout",
     "output_type": "stream",
     "text": [
      "[[13043   705]\n",
      " [ 1763  4167]]\n",
      "Precision of Logistic Regression: 0.8552955665024631\n",
      "Recall of Logistic Regression: 0.7026981450252952\n",
      "F1 score of Logistic Regression:0.7715237918903908\n"
     ]
    }
   ],
   "source": [
    "#Logistic regression\n",
    "MA_predict_test=MA_model.predict(x_test)\n",
    "print(confusion_matrix(y_test_MA,MA_predict_test))\n",
    "\n",
    "#Report F1,recall,precision\n",
    "recall_MA_predict_test=recall_score(y_test_MA,MA_predict_test)\n",
    "precision_MA_predict_test=precision_score(y_test_MA,MA_predict_test)\n",
    "f1score_MA_predict_test=f1_score(y_test_MA,MA_predict_test)\n",
    "print('Precision of Logistic Regression: '+str(precision_MA_predict_test))\n",
    "print('Recall of Logistic Regression: '+str(recall_MA_predict_test))\n",
    "print('F1 score of Logistic Regression:'+str(f1score_MA_predict_test))"
   ]
  },
  {
   "cell_type": "code",
   "execution_count": 80,
   "metadata": {
    "colab": {
     "base_uri": "https://localhost:8080/"
    },
    "id": "Lf-S1E8Wl0Cn",
    "outputId": "8adbd1b2-bbe9-424b-9170-6662f62f3ac8"
   },
   "outputs": [
    {
     "name": "stdout",
     "output_type": "stream",
     "text": [
      "[[13189   559]\n",
      " [ 2635  3295]]\n",
      "Precision of RNN: 0.8549558899844317\n",
      "Recall of RNN: 0.5556492411467117\n",
      "F1 score of RNN:0.6735486508585445\n"
     ]
    }
   ],
   "source": [
    "#RNN\n",
    "print(confusion_matrix(y_test_MA_rnn,y_predict_MA))\n",
    "\n",
    "#Report F1,recall,precision\n",
    "recall_MA_predict_rnn=recall_score(y_test_MA_rnn,y_predict_MA)\n",
    "precision_MA_predict_rnn=precision_score(y_test_MA_rnn,y_predict_MA)\n",
    "f1score_MA_predict_rnn=f1_score(y_test_MA_rnn,y_predict_MA)\n",
    "print('Precision of RNN: '+str(precision_MA_predict_rnn))\n",
    "print('Recall of RNN: '+str(recall_MA_predict_rnn))\n",
    "print('F1 score of RNN:'+str(f1score_MA_predict_rnn))"
   ]
  },
  {
   "cell_type": "code",
   "execution_count": 81,
   "metadata": {
    "id": "hoEfsBxPl0FJ"
   },
   "outputs": [],
   "source": [
    "#Get precision-recall curve for logistic regression\n",
    "lr_precision_MA,lr_recall_MA,_=precision_recall_curve(y_test_MA,MA_model.predict_proba(x_test)[:,1])\n",
    "\n",
    "\n",
    "#Get precision-recall curve for RNN\n",
    "rnn_pred_MA=[]\n",
    "\n",
    "for batch in test_iterator_MA:\n",
    "    predictions = model_MA(batch.Abstract)\n",
    "    rounded_preds = torch.sigmoid(predictions)\n",
    "    rnn_pred_MA+=rounded_preds.tolist()\n",
    "\n",
    "rnn_precision_MA,rnn_recall_MA,_=precision_recall_curve(y_test_MA_rnn,\n",
    "                                                np.asarray([i[0] for i in rnn_pred_MA]))"
   ]
  },
  {
   "cell_type": "code",
   "execution_count": 82,
   "metadata": {
    "colab": {
     "base_uri": "https://localhost:8080/",
     "height": 295
    },
    "id": "zNy86ol9k4oY",
    "outputId": "e948e259-f760-4502-9586-bd374f7ba2e3"
   },
   "outputs": [
    {
     "data": {
      "image/png": "[encoded data removed]",
      "text/plain": [
       "<Figure size 432x288 with 1 Axes>"
      ]
     },
     "metadata": {
      "needs_background": "light"
     },
     "output_type": "display_data"
    }
   ],
   "source": [
    "#Precision-recall curve for the Logistics Regression VS Recurrent Neural Networking, modelling Math\n",
    "plt.plot(lr_recall_MA,lr_precision_MA,color='red',label='Logistic Regression')\n",
    "plt.plot(rnn_recall_MA,rnn_precision_MA,color='blue',label='Recurrent Neural Network')\n",
    "plt.xlabel('Recall')\n",
    "plt.ylabel('Precision')\n",
    "plt.legend(loc=\"upper right\")\n",
    "plt.title('Precision-recall curve of Logistic Regression VS RNN for Math')\n",
    "plt.show()"
   ]
  },
  {
   "cell_type": "code",
   "execution_count": 83,
   "metadata": {
    "colab": {
     "base_uri": "https://localhost:8080/"
    },
    "id": "j8e9zKbammP-",
    "outputId": "ad28f434-8f2a-4986-e666-50f08d50a461"
   },
   "outputs": [
    {
     "name": "stdout",
     "output_type": "stream",
     "text": [
      "AUC of Logistic Regression is:  0.8881414334234919\n",
      "AUC of Recurrent Neural Network is:  0.8323226453568793\n"
     ]
    }
   ],
   "source": [
    "print('AUC of Logistic Regression is: ',auc(lr_recall_MA,lr_precision_MA))\n",
    "print('AUC of Recurrent Neural Network is: ',auc(rnn_recall_MA,rnn_precision_MA))"
   ]
  },
  {
   "cell_type": "markdown",
   "metadata": {
    "id": "MzvjdazCqrRn"
   },
   "source": [
    "## 2.Topic Modelling <a class=\"anchor\" id=\"2\"></a>"
   ]
  },
  {
   "cell_type": "code",
   "execution_count": null,
   "metadata": {
    "id": "i3GAgm6YqrRn"
   },
   "outputs": [],
   "source": []
  }
 ],
 "metadata": {
  "accelerator": "GPU",
  "colab": {
   "collapsed_sections": [],
   "name": "AcademicArticles_NLP_Codes.ipynb",
   "provenance": []
  },
  "kernelspec": {
   "display_name": "Python 3",
   "language": "python",
   "name": "python3"
  },
  "language_info": {
   "codemirror_mode": {
    "name": "ipython",
    "version": 3
   },
   "file_extension": ".py",
   "mimetype": "text/x-python",
   "name": "python",
   "nbconvert_exporter": "python",
   "pygments_lexer": "ipython3",
   "version": "3.7.6"
  }
 },
 "nbformat": 4,
 "nbformat_minor": 1
}
